{
 "cells": [
  {
   "cell_type": "markdown",
   "metadata": {},
   "source": [
    "**Exception Handling**"
   ]
  },
  {
   "cell_type": "code",
   "execution_count": 15,
   "metadata": {},
   "outputs": [
    {
     "name": "stdout",
     "output_type": "stream",
     "text": [
      "The arthametic exception is occured\n",
      "Alwas be exicuted this block!\n",
      "here working..\n"
     ]
    }
   ],
   "source": [
    "try :\n",
    "    x=int(input(\"Kindlelly insert the inpute: \"))\n",
    "    y=23\n",
    "    z=y/x\n",
    "    print(\"The division of {y} / {x} is: {z}\",z)\n",
    "except:\n",
    "    print(\"The arthametic exception is occured\")  #exicute when the exception wwill occured\n",
    "else:\n",
    "    print(\"Not an error!\")    #execute when the exception is not occured\n",
    "finally:\n",
    "    print(\"Alwas be exicuted this block!\")  #it will occured if exception occured or not occured both condition.\n",
    "\n",
    "print(\"here working..\")"
   ]
  },
  {
   "cell_type": "code",
   "execution_count": 16,
   "metadata": {},
   "outputs": [
    {
     "name": "stdout",
     "output_type": "stream",
     "text": [
      "Result:  21\n"
     ]
    },
    {
     "ename": "TypeError",
     "evalue": "only integer-type is vailid!",
     "output_type": "error",
     "traceback": [
      "\u001b[1;31m---------------------------------------------------------------------------\u001b[0m",
      "\u001b[1;31mTypeError\u001b[0m                                 Traceback (most recent call last)",
      "\u001b[1;32md:\\CodingLanguages\\Python\\FileIOInPython.ipynb Cell 3\u001b[0m line \u001b[0;36m1\n\u001b[0;32m      <a href='vscode-notebook-cell:/d%3A/CodingLanguages/Python/FileIOInPython.ipynb#W3sZmlsZQ%3D%3D?line=6'>7</a>\u001b[0m y \u001b[39m=\u001b[39m \u001b[39minput\u001b[39m(\u001b[39m\"\u001b[39m\u001b[39mEnter inpute for y: \u001b[39m\u001b[39m\"\u001b[39m)\n\u001b[0;32m      <a href='vscode-notebook-cell:/d%3A/CodingLanguages/Python/FileIOInPython.ipynb#W3sZmlsZQ%3D%3D?line=8'>9</a>\u001b[0m \u001b[39mif\u001b[39;00m \u001b[39mnot\u001b[39;00m \u001b[39mtype\u001b[39m(y) \u001b[39mis\u001b[39;00m \u001b[39mint\u001b[39m:\n\u001b[1;32m---> <a href='vscode-notebook-cell:/d%3A/CodingLanguages/Python/FileIOInPython.ipynb#W3sZmlsZQ%3D%3D?line=9'>10</a>\u001b[0m     \u001b[39mraise\u001b[39;00m \u001b[39mTypeError\u001b[39;00m(\u001b[39m\"\u001b[39m\u001b[39monly integer-type is vailid!\u001b[39m\u001b[39m\"\u001b[39m)\n",
      "\u001b[1;31mTypeError\u001b[0m: only integer-type is vailid!"
     ]
    }
   ],
   "source": [
    "x = int(input(\"Enter the number: \"))\n",
    "if x<0:\n",
    "    raise Exception(\"nagatve number is not allowed.\")\n",
    "else:\n",
    "    print(\"Result: \",x)\n",
    "\n",
    "y = input(\"Enter inpute for y: \")\n",
    "\n",
    "if not type(y) is int:\n",
    "    raise TypeError(\"only integer-type is vailid!\")\n"
   ]
  },
  {
   "cell_type": "markdown",
   "metadata": {},
   "source": [
    "**#FILE HANDLING**   \n",
    "File handling is an important part of any web application.\n",
    "\n",
    "Python has several functions for creating, reading, updating, and deleting files.\n",
    "\n",
    "File Handling\n",
    "The key function for working with files in Python is the open() function.\n",
    "\n",
    "The open() function takes two parameters; filename, and mode.\n",
    "\n",
    "There are four different methods (modes) for opening a file:\n",
    "\n",
    "\"r\" - Read - Default value. Opens a file for reading, error if the file does not exist\n",
    "\n",
    "\"a\" - Append - Opens a file for appending, creates the file if it does not exist\n",
    "\n",
    "\"w\" - Write - Opens a file for writing, creates the file if it does not exist\n",
    "\n",
    "\"x\" - Create - Creates the specified file, returns an error if the file exists\n",
    "\n",
    "In addition you can specify if the file should be handled as binary or text mode\n",
    "\n",
    "\"t\" - Text - Default value. Text mode\n",
    "\n",
    "\"b\" - Binary - Binary mode (e.g. images)"
   ]
  },
  {
   "cell_type": "code",
   "execution_count": 49,
   "metadata": {},
   "outputs": [
    {
     "name": "stdout",
     "output_type": "stream",
     "text": [
      "The file is exist in the same directory and and the open successfully!\n",
      "============================================\n",
      "The hole content is:\n",
      " OS module in Python provides functions for interacting with the operating system. OS comes under Python’s standard utility modules. This module provides a portable way of using operating system dependent functionality.\n",
      "============================================\n",
      "\n",
      "OS module in Python provides functions for interacting with the operating system. OS comes under Python’s standard utility modules. This module provides a portable way of using operating system dependent functionality.\n",
      "\n",
      "\n",
      "------------------------------------------------------\n",
      "------------------------------------------------------\n"
     ]
    }
   ],
   "source": [
    "import os\n",
    "try:\n",
    "    file = open(\"myfile.txt\",'tr')\n",
    "    if os.path.exists(\"myfile.txt\"):\n",
    "        print(\"The file is exist in the same directory and and the open successfully!\")\n",
    "        #using the read() method\n",
    "        content = file.read()\n",
    "        print(\"============================================\")\n",
    "        print(\"The hole content is:\\n\",content)\n",
    "        print(\"============================================\")\n",
    "        print()\n",
    "        file.seek(0)\n",
    "        #for reading the line by line \n",
    "        contentLine = file.readline()\n",
    "        print(contentLine)  #-> it will printing the very first line of the file (now pointer is in the second line)\n",
    "        print(file.readline())  #--> it will prints the second line\n",
    "        print(file.readline())  #->prints the third line\n",
    "\n",
    "        #for the continue read line till not end all the content (using for)\n",
    "        print(\"------------------------------------------------------\")\n",
    "        for text in file.readlines():\n",
    "            print(text)\n",
    "        print(\"------------------------------------------------------\")\n",
    "\n",
    "        #after the all work done close() file using file.close()\n",
    "        file.close()\n",
    "except FileNotFoundError:\n",
    "    print(\"File not fount to open error comming, please firstally available the file..\")\n"
   ]
  },
  {
   "cell_type": "markdown",
   "metadata": {},
   "source": [
    "**Writing in the FILE**  \n",
    "\n",
    "***Write to an Existing File***\n",
    "To write to an existing file, you must add a parameter to the open() function:\n",
    "\n",
    "\"a\" - Append - will append to the end of the file\n",
    "\n",
    "\"w\" - Write - will overwrite any existing content\n",
    "\n",
    "***Create a New File***\n",
    "To create a new file in Python, use the open() method, with one of the following parameters:\n",
    "\n",
    "\"x\" - Create - will create a file, returns an error if the file exist\n",
    "\n",
    "\"a\" - Append - will create a file if the specified file does not exist\n",
    "\n",
    "\"w\" - Write - will create a file if the specified file does not exist"
   ]
  },
  {
   "cell_type": "code",
   "execution_count": 48,
   "metadata": {},
   "outputs": [
    {
     "name": "stdout",
     "output_type": "stream",
     "text": [
      "sccessfully write in the file.\n",
      "ERROR: file already present in the directory.\n",
      "Appending successfully, done!\n",
      "The current position of the file pointer file3 is:  3500\n",
      "File pointer loactaction is changed:  100\n",
      "ERROR: Not present file deleting!\n",
      "The file is exist!\n"
     ]
    }
   ],
   "source": [
    "#open the file in the write mode --> which create the file not exist and file exist the opne the write mode\n",
    "file = open(\"myfile.txt\",'tw')  #-> it will firstally delete all the content present in the file and write the writing contents\n",
    "values = \"OS module in Python provides functions for interacting with the operating system. OS comes under Python’s standard utility modules. This module provides a portable way of using operating system dependent functionality.\"\n",
    "file.write(values)\n",
    "print(\"sccessfully write in the file.\")\n",
    "file.close()\n",
    "\n",
    "# the x-mode\n",
    "# the x-mode only creates the file that given name if the file is not in the CWD and if present then it gives an error(FileExistsError)\n",
    "try:\n",
    "    file2 = open(\"myfile2.txt\",'x')\n",
    "    print(\"File has been created successfully!\")\n",
    "except FileExistsError:\n",
    "    print(\"ERROR: file already present in the directory.\")\n",
    "\n",
    "#a - append mode \n",
    "#it also creates the file if the file not exist\n",
    "file3 = open(\"myfile2.txt\",'a')\n",
    "file3.write(values)\n",
    "print(\"Appending successfully, done!\")\n",
    "\n",
    "#file.tell() method --> tells the current position of the file pointer(cursile)\n",
    "position = file3.tell()\n",
    "print(\"The current position of the file pointer file3 is: \",position)\n",
    "\n",
    "#file.tell() method --> change the file pointer to given location\n",
    "chandeFilePointerLocation = 100\n",
    "file3.seek(chandeFilePointerLocation)\n",
    "print(\"File pointer loactaction is changed: \",file3.tell())\n",
    "\n",
    "#To delete the file in the CWD  -->this comes under the os module\n",
    "import os\n",
    "try:\n",
    "    os.remove(\"myfile3.txt\")\n",
    "    print(\"file deletion sucessfully\")\n",
    "except OSError:\n",
    "    print(\"ERROR: Not present file deleting!\")\n",
    "\n",
    "#to check the given file is exis or not\n",
    "#use os.path.exist('pathname')  ----> this comes under the os module\n",
    "if os.path.exists(\"myfile.txt\"):\n",
    "    print(\"The file is exist!\")\n",
    "else:\n",
    "    print(\"not exisr the file.\")\n"
   ]
  },
  {
   "cell_type": "markdown",
   "metadata": {},
   "source": [
    "**#OS MODULE**   \n",
    "below code are mentioned in my notes--"
   ]
  },
  {
   "cell_type": "code",
   "execution_count": 33,
   "metadata": {},
   "outputs": [
    {
     "name": "stdout",
     "output_type": "stream",
     "text": [
      "The present working directories is:  d:\\CodingLanguages\\python\n",
      "d:/lucky\n",
      "Error: already present in this directory..\n",
      "============================================\n",
      "The present directories are: \n",
      "Collection-DataType-In-Python.ipynb\n",
      "FileIOInPython.ipynb\n",
      "GuessTheNumberGame.py\n",
      "hello.py\n",
      "helloJupyter.ipynb\n",
      "ironmen.py\n",
      "jupyter_lucky.ipynb\n",
      "lucky\n",
      "pickachu.py\n",
      "pythonBasics.ipynb\n",
      "RandomModule.ipynb\n",
      "StonePaperScissor.py\n",
      "sum.py\n",
      "============================================\n",
      "The name of the os model is:  nt\n",
      "Again we are in the our main directory:  d:\\CodingLanguages\\python\n"
     ]
    },
    {
     "name": "stderr",
     "output_type": "stream",
     "text": [
      "<>:21: SyntaxWarning: invalid escape sequence '\\C'\n",
      "<>:21: SyntaxWarning: invalid escape sequence '\\C'\n",
      "C:\\Users\\manik\\AppData\\Local\\Temp\\ipykernel_18196\\3672408683.py:21: SyntaxWarning: invalid escape sequence '\\C'\n",
      "  '''\n"
     ]
    }
   ],
   "source": [
    "import os\n",
    "prsentWorkingDirectoies = os.getcwd()\n",
    "print(\"The present working directories is: \",prsentWorkingDirectoies)\n",
    "fileName = \"myfile.txt\"\n",
    "directory =\"/lucky\"\n",
    "path = os.path.join(prsentWorkingDirectoies,directory)\n",
    "print(path)\n",
    "\n",
    "try:\n",
    "   os.mkdir(\"lucky\")\n",
    "except OSError:\n",
    "    print(\"Error: already present in this directory..\")\n",
    "finally:\n",
    "    directory_list = os.listdir()\n",
    "    print(\"============================================\")\n",
    "    print(\"The present directories are: \")\n",
    "    for x in directory_list:\n",
    "        print(x)\n",
    "print(\"============================================\")\n",
    "print(\"The name of the os model is: \",os.name)\n",
    "'''\n",
    "#print(\"The size of the file Collection-DataType-In-Python.ipynb is: \",os.path.getsize(\"Collection-DataType-In-Python.ipynb\"),\" bytes.\")\n",
    "#os.chdir(\"d:\\CodingLanguages\\Python\\lucky\")\n",
    "print(\"current-directory: \",os.getcwd())\n",
    "os.chdir(\"d:\\CodingLanguages\\python\")\n",
    "'''\n",
    "print(\"Again we are in the our main directory: \",os.getcwd())"
   ]
  },
  {
   "cell_type": "markdown",
   "metadata": {},
   "source": [
    "***-->Python | os.getgrouplist() method***  \n",
    "OS module in Python provides functions for interacting with the operating system. OS comes under Python’s standard utility modules. This module provides a portable way of using operating system dependent functionality.\n",
    "\n",
    "All functions in os module raise OSError in the case of invalid or inaccessible file names and paths, or other arguments that have the correct type, but are not accepted by the operating system.\n",
    "\n",
    "In UNIX-like systems, multiple users can be put into a group. A group identifier, often abbreviated to GID, is a numeric value used to represent a specific group. It associates a system user with other users sharing something in common.\n",
    "\n",
    "os.getgrouplist() method in Python is used to get the list of all group ids that the specified user belongs to.\n",
    "\n",
    "**Note: os.getgrouplist() method is only available on UNIX platforms.**\n",
    "\n",
    "Syntax: os.getgrouplist(user, gid)\n",
    "\n",
    "Parameters:\n",
    "user: A string value representing a system user.\n",
    "gid: An integer value representing a group id.\n",
    "If gid does not belong to the specified user, it will also be included in the return list\n",
    "\n",
    "Return Type: This method returns a list which represents all group ids that the specified user belongs to."
   ]
  },
  {
   "cell_type": "markdown",
   "metadata": {},
   "source": [
    "**-->Python | os.getgroups() method**  \n",
    "OS module in Python provides functions for interacting with the operating system. OS comes under Python’s standard utility modules. This module provides a portable way of using operating system dependent functionality.\n",
    "\n",
    "All functions in os module raise OSError in the case of invalid or inaccessible file names and paths, or other arguments that have the correct type, but are not accepted by the operating system.\n",
    "\n",
    "os.getgroups() method in Python is used to get the list of supplementary group ids associated with the current process.\n",
    "\n",
    "supplementary group IDs: In Unix systems, every user must be a member of at least one group called primary group. It is also possible for a user to be listed as member of additional groups in the relevant entries in the group database. The IDs of these additional groups are called supplementary group IDs\n",
    "\n",
    "**Note: os.getgroups() method is available only on UNIX systems.**\n",
    "\n",
    "Syntax: os.getgroups()\n",
    "\n",
    "Parameter: No parameter is required\n",
    "\n",
    "Return Type: This method returns a list which represents the supplementary group IDs associated with the current process"
   ]
  },
  {
   "cell_type": "markdown",
   "metadata": {},
   "source": [
    "**-->Python | os.getlogin() method**   \n",
    "OS module in Python provides functions for interacting with the operating system. OS comes under Python’s standard utility modules. This module provides a portable way of using operating system dependent functionality.\n",
    "\n",
    "os.getlogin() method in Python is used to get the name of the user logged in on the controlling terminal of the process.\n",
    "\n",
    "Syntax: os.getlogin()\n",
    "\n",
    "Parameter: Not required\n",
    "\n",
    "Return Type: This method returns a string that denotes the name of the user logged in on the controlling terminal of the process.\n"
   ]
  },
  {
   "cell_type": "code",
   "execution_count": 35,
   "metadata": {},
   "outputs": [
    {
     "name": "stdout",
     "output_type": "stream",
     "text": [
      "My microsoft iuser id is:  manik\n"
     ]
    }
   ],
   "source": [
    "#Python program to explain os.getlogin() method  \n",
    "    \n",
    "# importing os module  \n",
    "import os \n",
    "  \n",
    "# Get the name of the user \n",
    "# logged in on the controlling  \n",
    "# terminal of the process. \n",
    "user = os.getlogin() \n",
    "  \n",
    "  \n",
    "# Print the name of the user \n",
    "# logged in on the controlling  \n",
    "# terminal of the process. \n",
    "print(\"My microsoft iuser id is: \",user)  "
   ]
  },
  {
   "cell_type": "markdown",
   "metadata": {},
   "source": [
    "**-->Python | os.getpgid() method** \n",
    "\n",
    "OS module in Python provides functions for interacting with the operating system. OS comes under Python’s standard utility modules. This module provides a portable way of using operating system dependent functionality.\n",
    "\n",
    "All functions in os module raise OSError in the case of invalid or inaccessible file names and paths, or other arguments that have the correct type, but are not accepted by the operating system.\n",
    "\n",
    "In UNIX-like operating systems, a process group denotes a collection of one or more processes. It is used to control the distribution of a signal that is when a signal is directed to a process group, each member of the process group receives the signal. Every process group is uniquely identified using process group id.\n",
    "os.getpgid() method in Python is used to get the process group id of the process with specified process id. If the specified process id is 0, process group id of the current process will be returned. Process group id of the current process can be also get using os.getpgrp() method.\n",
    "\n",
    "Note: os.getpgid() method is only available on UNIX platforms.\n",
    "\n",
    "Syntax: os.getpgid(pid)\n",
    "\n",
    "Parameter:\n",
    "pid: An integer value representing the process id of the process whose process group id is to be found. If pid is 0, it will represent the current process.\n",
    "\n",
    "Return Type: This method returns an integer value which represents the process group id of the process with specified process id."
   ]
  },
  {
   "cell_type": "markdown",
   "metadata": {},
   "source": [
    "**-->Python | os.getpid() method** \n",
    "\n",
    "OS module in Python provides functions for interacting with the operating system. OS comes under Python’s standard utility modules. This module provides a portable way of using operating system dependent functionality.\n",
    "\n",
    "os.getpid() method in Python is used to get the process ID of the current process.\n",
    "\n",
    "Syntax: os.getpid()\n",
    "\n",
    "Parameter: Not required\n",
    "\n",
    "Return Type: This method returns a integer value denoting process ID of current process. The return type of this method is of class ‘int’."
   ]
  },
  {
   "cell_type": "code",
   "execution_count": 5,
   "metadata": {},
   "outputs": [
    {
     "name": "stdout",
     "output_type": "stream",
     "text": [
      "The process ID of the current process is:  18688\n"
     ]
    }
   ],
   "source": [
    "# Python program to explain os.getpid() method \n",
    "\t\n",
    "# importing os module \n",
    "import os \n",
    "\n",
    "# Get the process ID of \n",
    "# the current process \n",
    "pid = os.getpid() \n",
    "\n",
    "\n",
    "# Print the process ID of \n",
    "# the current process \n",
    "print(\"The process ID of the current process is: \",pid) \n"
   ]
  },
  {
   "cell_type": "markdown",
   "metadata": {},
   "source": [
    "**-->Python | os.getppid() method**  \n",
    "\n",
    "OS module in Python provides functions for interacting with the operating system. OS comes under Python’s standard utility modules. This module provides a portable way of using operating system dependent functionality.\n",
    "\n",
    "os.getppid() method in Python is used to get the parent process ID of the current process.\n",
    "\n",
    "Syntax: os.getppid()\n",
    "\n",
    "Parameter: Not required\n",
    "\n",
    "Return Type: This method returns a integer value denoting the parent process ID of the current process. The return type of this method is of class ‘int’."
   ]
  },
  {
   "cell_type": "code",
   "execution_count": 6,
   "metadata": {},
   "outputs": [
    {
     "name": "stdout",
     "output_type": "stream",
     "text": [
      "Parent Process ID of current process: 18552\n"
     ]
    }
   ],
   "source": [
    "# Python program to explain os.getppid() method \n",
    "\n",
    "# importing os module \n",
    "import os \n",
    "\n",
    "# Get the Parent process ID \n",
    "# of the current process \n",
    "ppid = os.getppid() \n",
    "\n",
    "# Print the Parent process ID \n",
    "# of the current process \n",
    "print(\"Parent Process ID of current process:\", ppid) \n"
   ]
  },
  {
   "cell_type": "markdown",
   "metadata": {},
   "source": [
    "**-->Python | os.getresuid() and os.setresuid() method** \n",
    "\n",
    "OS module in Python provides functions for interacting with the operating system. OS comes under Python’s standard utility modules. This module provides a portable way of using operating system dependent functionality.\n",
    "\n",
    "All functions in os module raise OSError in the case of invalid or inaccessible file names and paths, or other arguments that have the correct type, but are not accepted by the operating system.\n",
    "\n",
    "os.getresuid() method in Python is used to get the current process’s real, effective, and saved user ids and os.setresuid() method is used to set the current process’s real, effective, and saved user ids.\n",
    "\n",
    "Every user in Unix like operating system is identified by different integer number, this unique number is called as UserID. There are three types of UserID defined for a process, which can be dynamically changed as per the privilege of task.\n",
    "\n",
    "Real UserID : It is account of owner of this process. It defines which files that this process has access to.\n",
    "\n",
    "Effective UserID : It is normally same as Real UserID, but sometimes it is changed to enable a non-privileged user to access files that can only be accessed by root.\n",
    "\n",
    "Saved UserID: It is used when a process is running with elevated privileges (generally root) needs to do some under-privileged work, this can be achieved by temporarily switching to non-privileged account.\n",
    "While performing under-privileged work, the effective UID is changed to some lower privilege value, and the euid is saved to saved userID(suid), so that it can be used for switching back to privileged account when task is completed.\n",
    "\n",
    "Note: os.setresuid() and os.getresuid() methods are available only on UNIX platforms and functionality of os.setresuid() method is typically available only to the superuser as only superuser can change IDs of a process.\n",
    "Superuser means a root user or an administrative user who has all the permissions to run or execute any program in the operating system.\n",
    "\n",
    "os.getresuid() method –\n",
    "Syntax: os.getresuid()\n",
    "\n",
    "Parameter: No parameter is required\n",
    "\n",
    "Return Type: This method returns a tuple whose attributes represents current process’s real, effective, and saved user ids."
   ]
  }
 ],
 "metadata": {
  "kernelspec": {
   "display_name": "Python 3",
   "language": "python",
   "name": "python3"
  },
  "language_info": {
   "codemirror_mode": {
    "name": "ipython",
    "version": 3
   },
   "file_extension": ".py",
   "mimetype": "text/x-python",
   "name": "python",
   "nbconvert_exporter": "python",
   "pygments_lexer": "ipython3",
   "version": "3.12.0"
  }
 },
 "nbformat": 4,
 "nbformat_minor": 2
}
