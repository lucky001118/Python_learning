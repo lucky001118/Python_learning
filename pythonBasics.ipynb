{
 "cells": [
  {
   "cell_type": "code",
   "execution_count": 18,
   "metadata": {},
   "outputs": [
    {
     "name": "stdout",
     "output_type": "stream",
     "text": [
      "hello python. !\n"
     ]
    }
   ],
   "source": [
    "print(\"hello python. !\")"
   ]
  },
  {
   "cell_type": "markdown",
   "metadata": {},
   "source": [
    "**PYTHON INTRODUCTION**  \n",
    "**Python**  is a high-level, interpreted, and general-purpose dynamic programming language that focuses on code readability ¹². It was created by Guido van Rossum and first released in 1991 ¹. Python is widely used in various fields such as web development, data science, machine learning, and more ¹⁵. \n",
    "\n",
    "Python's syntax is designed to be simple and easy to read, making it an ideal language for beginners to learn programming ². Python has a large standard library that provides many useful modules and functions that can be used to perform various tasks ¹. Python also has a vast community of developers who contribute to open-source libraries and frameworks that can be used to build complex applications ¹.\n",
    "\n",
    "If you are interested in learning more about Python, you can download the latest version from the official website ⁴. The website also provides documentation, tutorials, and guides for beginners and advanced users alike ¹⁴.\n"
   ]
  },
  {
   "cell_type": "code",
   "execution_count": 19,
   "metadata": {},
   "outputs": [
    {
     "name": "stdout",
     "output_type": "stream",
     "text": [
      "hello i'm python language which is very populer thus days..\n"
     ]
    }
   ],
   "source": [
    "#how to print the hello word in the python language\n",
    "print(\"hello i'm python language which is very populer thus days..\")"
   ]
  },
  {
   "cell_type": "markdown",
   "metadata": {},
   "source": [
    "**INPUT IN PYTHON**\n",
    "To take input in Python, you can use the built-in function `input()`. This function reads a line from the console and converts it into a string. The syntax for using `input()` is as follows:\n",
    "\n",
    "```python\n",
    "variable_name = input(\"Enter your input: \")\n",
    "```\n",
    "\n",
    "Here, `variable_name` is the name of the variable that will store the user's input. The string `\"Enter your input: \"` is the prompt that will be displayed to the user before taking input.\n",
    "\n",
    "For example, if you want to take a number as input, you can use the following code:\n",
    "\n",
    "```python\n",
    "num = int(input(\"Enter a number: \"))\n",
    "```\n",
    "\n",
    "This code will take an integer as input and store it in the variable `num`.\n",
    "\n",
    "If you want to take a string as input, you can use the following code:\n",
    "\n",
    "```python\n",
    "name = input(\"Enter your name: \")\n",
    "```\n",
    "\n",
    "This code will take a string as input and store it in the variable `name`.\n",
    "\n",
    "I hope this helps! Let me know if you have any more questions.\n",
    "\n"
   ]
  },
  {
   "cell_type": "code",
   "execution_count": 20,
   "metadata": {},
   "outputs": [
    {
     "name": "stdout",
     "output_type": "stream",
     "text": [
      "But input() function always takes as string data, we can casting in to specify data-types.\n",
      "let see the data-type of the inpue thing:  <class 'str'>  and the inpute value is:  5\n",
      "the type of variavle integerInpu:  <class 'int'>\n"
     ]
    }
   ],
   "source": [
    "#TO TAKE INPUT IN PYTHON NORMALLY\n",
    "inpu = input(\"Enter the inpute you wat: \")\n",
    "print(\"But input() function always takes as string data, we can casting in to specify data-types.\")\n",
    "print(\"let see the data-type of the inpue thing: \",type(inpu),\" and the inpute value is: \",inpu)\n",
    "\n",
    "#casting into our disired data type\n",
    "integerInpu = int(input(\"inter the only integer data: \"))\n",
    "print(\"the type of variavle integerInpu: \",type(integerInpu))"
   ]
  },
  {
   "cell_type": "markdown",
   "metadata": {},
   "source": [
    "Python has several types of operators that can be used to perform different operations. Here are some of the most commonly used operators in Python:\n",
    "\n",
    "1. **Arithmetic operators**: These operators are used to perform mathematical operations on numeric values. Examples include `+` (addition), `-` (subtraction), `*` (multiplication), `/` (division), `%` (modulus), `**` (exponentiation), and `//` (floor division).\n",
    "\n",
    "2. **Assignment operators**: These operators are used to assign values to variables. Examples include `=` (simple assignment), `+=` (addition assignment), `-=` (subtraction assignment), `*=` (multiplication assignment), `/=` (division assignment), `%=` (modulus assignment), `**=` (exponentiation assignment), and `//=` (floor division assignment).\n",
    "\n",
    "3. **Comparison operators**: These operators are used to compare two values and return a Boolean value (`True` or `False`). Examples include `==` (equal to), `!=` (not equal to), `<` (less than), `>` (greater than), `<=` (less than or equal to), and `>=` (greater than or equal to).\n",
    "\n",
    "4. **Logical operators**: These operators are used to combine conditional statements and return a Boolean value (`True` or `False`). Examples include `and`, `or`, and `not`.\n",
    "\n",
    "5. **Identity operators**: These operators are used to compare the memory locations of two objects and return a Boolean value (`True` or `False`). Examples include `is` and `is not`.\n",
    "\n",
    "6. **Membership operators**: These operators are used to test if a sequence is presented in an object and return a Boolean value (`True` or `False`). Examples include `in` and `not in`.\n",
    "\n",
    "7. **Bitwise operators**: These operators are used to perform bitwise operations on binary numbers and return an integer value. Examples include `&` (bitwise AND), `|` (bitwise OR), `^` (bitwise XOR), `~` (bitwise NOT), `<<` (left shift), and `>>` (right shift).\n",
    "\n",
    "I hope this helps! Let me know if you have any other questions.\n",
    "\n"
   ]
  },
  {
   "cell_type": "code",
   "execution_count": 21,
   "metadata": {},
   "outputs": [
    {
     "name": "stdout",
     "output_type": "stream",
     "text": [
      "Welcome to simple calculator..\n"
     ]
    }
   ],
   "source": [
    "#Question--> build the calculator to add, substract , multiply or divide the numbers\n",
    "print(\"Welcome to simple calculator..\")\n",
    "firstNumber = int(input(\"Enter the first number: \"))\n",
    "secondNumber = int(input(\"Enter the second number: \"))\n",
    "print(\"What operation do you want to perform: \\n1)Addition\\n2)Substraction\\n3)Multiplication\\n4)Division\")\n",
    "choise = input(\"Enter the choise: \")\n",
    "def calculator(choise):\n",
    "    if choise == \"Addition\":\n",
    "        result = firstNumber+secondNumber  #addition--> a+b\n",
    "        print(\"The addition of number \",firstNumber,\" and \",secondNumber,\" is: \",result)  \n",
    "    elif choise == \"Substraction\":\n",
    "        result = firstNumber-secondNumber #substraction ---> a-b\n",
    "        print(\"The substraction of number \",firstNumber,\" and \",secondNumber,\" is: \",result)\n",
    "    elif choise == \"Multiplication\":\n",
    "        result = firstNumber*secondNumber     #multiplication--->a*b\n",
    "        print(\"The multiplication of number \",firstNumber,\" and \",secondNumber,\" is: \",result)\n",
    "    elif choise == \"Division\":\n",
    "        result = firstNumber/secondNumber     #division---> a/b\n",
    "        print(\"The Division of number \",firstNumber,\" and \",secondNumber,\" is: \",result)\n",
    "    else:\n",
    "        print(\"maybe you entered the wrong operation that present here please reenterd again.\")\n",
    "        choise = input(\"Enter the choise: \")\n",
    "        calculator(choise)\n",
    "calculator(choise)\n",
    "\n"
   ]
  },
  {
   "cell_type": "markdown",
   "metadata": {},
   "source": []
  },
  {
   "cell_type": "markdown",
   "metadata": {},
   "source": [
    "**Python conditional statements**   \n",
    "are used to execute a block of code based on the result of a condition. The most commonly used conditional statement in Python is the `if` statement. Here is an example of how to use the `if` statement:\n",
    "\n",
    "```python\n",
    "x = 5\n",
    "if x > 0:\n",
    "    print(\"x is positive\")\n",
    "```\n",
    "\n",
    "In this example, the condition `x > 0` is evaluated. If the condition is true, the code inside the `if` block is executed. In this case, the output would be `x is positive`.\n",
    "\n",
    "Python also provides other conditional statements such as `else` and `elif`. The `else` statement is used to execute a block of code when the condition in the `if` statement is false. Here is an example:\n",
    "\n",
    "```python\n",
    "x = -5\n",
    "if x > 0:\n",
    "    print(\"x is positive\")\n",
    "else:\n",
    "    print(\"x is negative or zero\")\n",
    "```\n",
    "\n",
    "In this example, since `x` is negative, the output would be `x is negative or zero`.\n",
    "\n",
    "The `elif` statement is used to check multiple conditions. Here is an example:\n",
    "\n",
    "```python\n",
    "x = 0\n",
    "if x > 0:\n",
    "    print(\"x is positive\")\n",
    "elif x < 0:\n",
    "    print(\"x is negative\")\n",
    "else:\n",
    "    print(\"x is zero\")\n",
    "```\n",
    "\n",
    "In this example, since `x` is zero, the output would be `x is zero`.\n",
    "\n",
    "\n"
   ]
  },
  {
   "cell_type": "code",
   "execution_count": null,
   "metadata": {},
   "outputs": [
    {
     "name": "stdout",
     "output_type": "stream",
     "text": [
      "the conditional statement example we can see in the calculator example and our explaination section.\n",
      "x is zero\n"
     ]
    }
   ],
   "source": [
    "print(\"the conditional statement example we can see in the calculator example and our explaination section.\")\n",
    "x = 0\n",
    "if x > 0:          #if statement\n",
    "    print(\"x is positive\")\n",
    "elif x < 0:        #elif statement\n",
    "    print(\"x is negative\")\n",
    "else:               #else statement\n",
    "    print(\"x is zero\")\n"
   ]
  },
  {
   "cell_type": "markdown",
   "metadata": {},
   "source": [
    "**Python Loops**  \n",
    "Python provides three types of loops to handle looping requirements: `for`, `while`, and `do-while. \n",
    "\n",
    "The `for` loop is used for iterating over a sequence (that is either a list, a tuple, a dictionary, a set, or a string) ⁴. The syntax for the `for` loop is:\n",
    "\n",
    "```python\n",
    "for iterator in sequence:\n",
    "    statement(s)\n",
    "```\n",
    "\n",
    "The `while` loop is used to execute a block of statements repeatedly until a given condition is satisfied ¹. The syntax for the `while` loop is:\n",
    "\n",
    "```python\n",
    "while expression:\n",
    "    statement(s)\n",
    "```\n",
    "\n",
    "Python does not have a built-in `do-while` loop. However, we can implement it using the following syntax:\n",
    "\n",
    "```python\n",
    "while True:\n",
    "    statement(s)\n",
    "    if not condition:\n",
    "        break\n",
    "```\n"
   ]
  },
  {
   "cell_type": "code",
   "execution_count": null,
   "metadata": {},
   "outputs": [
    {
     "name": "stdout",
     "output_type": "stream",
     "text": [
      "lucky\n",
      "ritika\n",
      "chandu\n",
      "saurabh\n",
      "chandni\n",
      "priyanshu\n",
      "soniya\n",
      "yatish\n",
      "\n",
      "---------------------------------\n",
      "\n",
      "lucky\n",
      "ritika\n",
      "chandu\n",
      "saurabh\n",
      "chandni\n",
      "priyanshu\n",
      "soniya\n",
      "yatish\n"
     ]
    }
   ],
   "source": [
    "#   whiele loop ---> the while loop is running till the condition is true when the condition goese false it will stop running\n",
    "listOfNames = [\"lucky\",\"ritika\",\"chandu\",\"saurabh\",\"chandni\",\"priyanshu\",\"soniya\",\"yatish\"]\n",
    "count=0\n",
    "while count<len(listOfNames):\n",
    "    print(listOfNames[count])\n",
    "    count = count+1\n",
    "print(\"\\n---------------------------------\\n\")\n",
    "#  for loop ----> the for loop is spcial loop in the python which is use to autometically when data is present in the collections\n",
    "for x in listOfNames:\n",
    "    print(x)"
   ]
  },
  {
   "cell_type": "markdown",
   "metadata": {},
   "source": [
    "**Python functions**  \n",
    "Python functions are a way to group a set of related statements together and reuse them. They are defined using the `def` keyword, followed by the function name and parentheses. The parentheses can include parameters, which are values that the function expects to receive when it is called. Functions can also return values using the `return` keyword.\n",
    "\n",
    "Here are some types of Python function arguments:\n",
    "\n",
    "- ****Default argument***: A default argument is an argument that assumes a default value if a value is not provided in the function call.\n",
    "- ***Keyword argument***: A keyword argument is an argument that is passed by name instead of by position.\n",
    "- ***Positional argument***: A positional argument is an argument that is passed by position instead of by name.\n",
    "- ***Arbitrary argument***: An arbitrary argument is an argument that can accept any number of values. There are two types of arbitrary arguments: `*args` and `**kwargs`.\n",
    "\n",
    "For more information on Python functions, you can check out [W3Schools](https://www.w3schools.com/python/python_functions.asp) ¹ or [GeeksforGeeks](https://www.geeksforgeeks.org/python-functions/) \n",
    "\n",
    "Source: Conversation with Bing, 21/10/2023\n",
    "(1) Python Functions - W3Schools. https://www.w3schools.com/python/python_functions.asp.  \n",
    "(2) Python Functions - GeeksforGeeks. https://www.geeksforgeeks.org/python-functions/.   \n",
    "(3) An Essential Guide to Python Functions By Examples. https://www.pythontutorial.net/python-basics/python-functions/.  \n",
    "(4) Types of Python Functions - Online Tutorials Library. https://www.tutorialspoint.com/python/python_functions.htm.   "
   ]
  },
  {
   "cell_type": "markdown",
   "metadata": {},
   "source": [
    "**Arguments**  \n",
    "Information can be passed into functions as arguments.\n",
    "\n",
    "Arguments are specified after the function name, inside the parentheses. You can add as many arguments as you want, just separate them with a comma.\n",
    "\n",
    "The following example has a function with one argument (fname). When the function is called, we pass along a first name, which is used inside the function to print the full name.\n",
    "\n",
    "**Parameters or Arguments?**  \n",
    "The terms parameter and argument can be used for the same thing: information that are passed into a function.\n",
    "\n",
    "From a function's perspective:\n",
    "\n",
    "A parameter is the variable listed inside the parentheses in the function definition.\n",
    "\n",
    "An argument is the value that is sent to the function when it is called."
   ]
  },
  {
   "cell_type": "code",
   "execution_count": 4,
   "metadata": {},
   "outputs": [
    {
     "name": "stdout",
     "output_type": "stream",
     "text": [
      "Hello from a function\n",
      "Emil Refsnes\n",
      "Tobias Refsnes\n",
      "Linus Refsnes\n",
      "index-00   index-02\n",
      "value1   value2\n"
     ]
    }
   ],
   "source": [
    "#function is make by def keyword\n",
    "def my_function():\n",
    "  print(\"Hello from a function\")\n",
    "\n",
    "my_function() #function calling\n",
    "\n",
    "#Arguments\n",
    "def my_function(fname):\n",
    "  print(fname + \" Refsnes\")\n",
    "\n",
    "my_function(\"Emil\")\n",
    "my_function(\"Tobias\")\n",
    "my_function(\"Linus\")\n",
    "\n",
    "#to pass in the *arg in the parameter to access the tuple data-type\n",
    "def function1( *tup):\n",
    "  var1 = tup[0]\n",
    "  var2 = tup[2]\n",
    "  print(var1,\" \",var2)\n",
    "function1(\"index-00\",\"index-01\",\"index-02\")\n",
    "\n",
    "#To access the key-value pair in the function argument\n",
    "def function2( **disct):\n",
    "  var1 = disct[\"key1\"]\n",
    "  var2 = disct[\"key2\"]\n",
    "  print(var1,\" \",var2)\n",
    "function2(key1=\"value1\",key2=\"value2\")"
   ]
  },
  {
   "cell_type": "code",
   "execution_count": null,
   "metadata": {},
   "outputs": [
    {
     "name": "stdout",
     "output_type": "stream",
     "text": [
      "The factorial of  8  is  40320\n",
      "The total digits in the resultent factorial is  5\n"
     ]
    }
   ],
   "source": [
    "#RECURSION\n",
    "#calculation of factorial\n",
    "user = int(input(\"Enter the number for factorial calculation: \"))\n",
    "def factorial(user):\n",
    "    if user == 0 or user == 1:\n",
    "        return 1\n",
    "    else:\n",
    "        return user*factorial(user-1)\n",
    "    \n",
    "factorialCalculation = factorial(user)\n",
    "print(\"The factorial of \",user,\" is \",factorialCalculation)\n",
    "#converting into string to calculate the number of digits in the resultent factorial\n",
    "varible = str(factorialCalculation)\n",
    "print(\"The total digits in the resultent factorial is \",len(varible)) \n"
   ]
  }
 ],
 "metadata": {
  "kernelspec": {
   "display_name": "Python 3",
   "language": "python",
   "name": "python3"
  },
  "language_info": {
   "codemirror_mode": {
    "name": "ipython",
    "version": 3
   },
   "file_extension": ".py",
   "mimetype": "text/x-python",
   "name": "python",
   "nbconvert_exporter": "python",
   "pygments_lexer": "ipython3",
   "version": "3.12.0"
  }
 },
 "nbformat": 4,
 "nbformat_minor": 2
}
