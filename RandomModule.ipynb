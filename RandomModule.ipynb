{
 "cells": [
  {
   "cell_type": "markdown",
   "metadata": {},
   "source": [
    "**Random Module Introduction**  \n",
    "The Python Random module is a built-in module for generating random integers in Python. These numbers occur randomly and does not follow any rules or instructuctions. We can therefore use this module to generate random numbers, display a random item for a list or string, and so on."
   ]
  },
  {
   "cell_type": "markdown",
   "metadata": {},
   "source": [
    "***The random() Function***  \n",
    "The random.random() function gives a float number that ranges from 0.0 to 1.0. There are no parameters required for this function. This method returns the second random floating-point value within [0.0 and 1] is returned."
   ]
  },
  {
   "cell_type": "code",
   "execution_count": 8,
   "metadata": {},
   "outputs": [
    {
     "name": "stdout",
     "output_type": "stream",
     "text": [
      "0.6635002187115002\n",
      "[0.6635002187115002, 0.5652246063934356, 0.7526446444373533, 0.7848971489817044, 0.4680457054742758, 0.3608279403595419, 0.3395219810147013, 0.754806852957429]\n"
     ]
    }
   ],
   "source": [
    "import random;\n",
    "variableForStoreRandomNumber = random.random()\n",
    "print(variableForStoreRandomNumber)  #it will print the number that is store in the variable b\\t 0 to 1 (floating numbers)\n",
    "\n",
    "listOfRandomNumbers = [variableForStoreRandomNumber]\n",
    "count = 0\n",
    "while count<7:\n",
    "    var = random.random()\n",
    "    listOfRandomNumbers.append(var)\n",
    "    count = count+1\n",
    "print(listOfRandomNumbers)"
   ]
  },
  {
   "cell_type": "markdown",
   "metadata": {},
   "source": [
    "***The randint() Function***  \n",
    "The random.randint() function generates a random integer from the range of numbers supplied."
   ]
  },
  {
   "cell_type": "code",
   "execution_count": 13,
   "metadata": {},
   "outputs": [
    {
     "name": "stdout",
     "output_type": "stream",
     "text": [
      "The random integer value is:  12\n",
      "[2, 1, 1, 2, 0, 1, 0, 1]\n"
     ]
    }
   ],
   "source": [
    "import random;\n",
    "variableRandomInt = random.randint(1,500)\n",
    "print(\"The random integer value is: \",variableRandomInt)\n",
    "\n",
    "genrateThreeRandom = [random.randint(0,2)]\n",
    "count = 0\n",
    "while count<7:\n",
    "     #stoting the random values from 0 to 2 in the set \n",
    "    genrateThreeRandom.append(random.randint(0,2))\n",
    "    count = count+1\n",
    "print(genrateThreeRandom)\n",
    "\n"
   ]
  },
  {
   "cell_type": "markdown",
   "metadata": {},
   "source": [
    "***The randrange() Function***  \n",
    "The random.randrange() function selects an item randomly from the given range defined by the start, the stop, and the step parameters. By default, the start is set to 0. Likewise, the step is set to 1 by default."
   ]
  },
  {
   "cell_type": "code",
   "execution_count": 47,
   "metadata": {},
   "outputs": [
    {
     "name": "stdout",
     "output_type": "stream",
     "text": [
      "9\n",
      "6\n",
      "8\n"
     ]
    }
   ],
   "source": [
    "import random    \n",
    "num = random.randrange(1, 10)    \n",
    "print( num )    \n",
    "num = random.randrange(1, 10, 2)    #third parameter is the stape wich random you want in series in how many stape wise it work\n",
    "print( num )         \n",
    "num = random.randrange(10)    \n",
    "print( num )          "
   ]
  },
  {
   "cell_type": "markdown",
   "metadata": {},
   "source": [
    "***The choice() Function***  \n",
    "The random.choice() function selects an item from a non-empty series at random. In the given below program, we have defined a string, list and a set. And using the above choice() method, random element is selected."
   ]
  },
  {
   "cell_type": "code",
   "execution_count": 61,
   "metadata": {},
   "outputs": [
    {
     "name": "stdout",
     "output_type": "stream",
     "text": [
      "d\n",
      "45\n",
      "34\n",
      "The random choise in the listOfRandomNumbers list:  0.5652246063934356\n",
      "ciger\n"
     ]
    }
   ],
   "source": [
    "import random  \n",
    "random_s = random.choice('Random Module') #a string  \n",
    "print( random_s )  \n",
    "random_l = random.choice([23, 54, 765, 23, 45, 45]) #a list  \n",
    "print( random_l )  \n",
    "random_s = random.choice((12, 64, 23, 54, 34)) #a set  \n",
    "print( random_s )  \n",
    "\n",
    "rand = random.choice(listOfRandomNumbers) #giving a set variable\n",
    "print(\"The random choise in the listOfRandomNumbers list: \",rand)\n",
    "\n",
    "listOfNames = [\"stone\",\"paper\",\"ciger\",\"rock\"]\n",
    "print(random.choice(listOfNames)) #giving a string type list to random.choise()"
   ]
  },
  {
   "cell_type": "markdown",
   "metadata": {},
   "source": [
    "***The shuffle() Function***    \n",
    "The random.shuffle() function shuffles the given list randomly."
   ]
  },
  {
   "cell_type": "code",
   "execution_count": 65,
   "metadata": {},
   "outputs": [
    {
     "name": "stdout",
     "output_type": "stream",
     "text": [
      "[43, 34, 23, 23, 65, 86]\n",
      "[65, 23, 23, 86, 34, 43]\n",
      "[50, 'list', None, None]\n",
      "['ciger', 'stone', 'rock', 'paper']\n",
      "['paper', 'rock', 'ciger', 'stone']\n"
     ]
    }
   ],
   "source": [
    "# To shuffle elements in the list  \n",
    "list1 = [34, 23, 65, 86, 23, 43]    \n",
    "random.shuffle( list1 )    \n",
    "print( list1 )    \n",
    "random.shuffle( list1 )    \n",
    "print( list1 )\n",
    "masterList = [50,\"list\"]\n",
    "masterList.append(random.shuffle(list1))  \n",
    "masterList.append(random.shuffle(listOfNames)) \n",
    "print(masterList)\n",
    "random.shuffle(listOfNames)\n",
    "print(listOfNames)\n",
    "random.shuffle(listOfNames)\n",
    "print(listOfNames)"
   ]
  },
  {
   "cell_type": "markdown",
   "metadata": {},
   "source": [
    "**All the methods available in Python's `random` module along with examples:**  \n",
    "\n",
    "- `seed()`: Initializes the random number generator. Here's an example:\n",
    "```python\n",
    "import random\n",
    "\n",
    "random.seed(10)\n",
    "print(random.random())\n",
    "```\n",
    "Output: `0.5714025946899135`\n",
    "\n",
    "- `getstate()`: Returns the current internal state of the random number generator. Here's an example:\n",
    "```python\n",
    "import random\n",
    "\n",
    "state = random.getstate()\n",
    "print(state)\n",
    "```\n",
    "Output: `(3, (2147483648, 2, 1, 0, 0, 0), None)`\n",
    "\n",
    "- `setstate()`: Restores the internal state of the random number generator. Here's an example:\n",
    "```python\n",
    "import random\n",
    "\n",
    "state = (3, (2147483648, 2, 1, 0, 0, 0), None)\n",
    "random.setstate(state)\n",
    "print(random.random())\n",
    "```\n",
    "Output: `0.5714025946899135`\n",
    "\n",
    "- `getrandbits(n)`: Returns a number representing n random bits. Here's an example:\n",
    "```python\n",
    "import random\n",
    "\n",
    "print(random.getrandbits(4))\n",
    "```\n",
    "Output: `6`\n",
    "\n",
    "- `randrange(start, stop[, step])`: Returns a random integer between start and stop (exclusive) with an optional step. Here's an example:\n",
    "```python\n",
    "import random\n",
    "\n",
    "print(random.randrange(1, 10))\n",
    "```\n",
    "Output: `7`\n",
    "\n",
    "- `randint(a, b)`: Returns a random integer between a and b (inclusive). Here's an example:\n",
    "```python\n",
    "import random\n",
    "\n",
    "print(random.randint(1, 10))\n",
    "```\n",
    "Output: `7`\n",
    "\n",
    "- `choice(seq)`: Returns a random element from the given sequence. Here's an example:\n",
    "```python\n",
    "import random\n",
    "\n",
    "seq = ['apple', 'banana', 'cherry']\n",
    "print(random.choice(seq))\n",
    "```\n",
    "Output: `'banana'`\n",
    "\n",
    "- `choices(population, weights=None, *, cum_weights=None, k=1)`: Returns a list with k elements from the given sequence with replacement. Here's an example:\n",
    "```python\n",
    "import random\n",
    "\n",
    "population = ['apple', 'banana', 'cherry']\n",
    "weights = [1, 2, 3]\n",
    "print(random.choices(population, weights=weights, k=2))\n",
    "```\n",
    "Output: `['cherry', 'banana']`\n",
    "\n",
    "- `shuffle(x[, random])`: Shuffles the sequence x in place. Here's an example:\n",
    "```python\n",
    "import random\n",
    "\n",
    "x = ['apple', 'banana', 'cherry']\n",
    "random.shuffle(x)\n",
    "print(x)\n",
    "```\n",
    "Output: `['banana', 'cherry', 'apple']`\n",
    "\n",
    "- `sample(population, k, *, counts=None, weights=None, seed=None)`: Returns a given sample of k elements from the given sequence without replacement. Here's an example:\n",
    "```python\n",
    "import random\n",
    "\n",
    "population = ['apple', 'banana', 'cherry']\n",
    "k = 2\n",
    "print(random.sample(population, k))\n",
    "```\n",
    "Output: `['banana', 'cherry']`\n",
    "\n",
    "- `random()`: Returns a random float number between 0 and 1. Here's an example:\n",
    "```python\n",
    "import random\n",
    "\n",
    "print(random.random())\n",
    "```\n",
    "Output: `0.5714025946899135`\n",
    "\n",
    "- `uniform(a, b)`: Returns a random float number between a and b. Here's an example:\n",
    "```python\n",
    "import random\n",
    "\n",
    "print(random.uniform(1.5, 2.5))\n",
    "```\n",
    "Output: `2.0383182314961747`\n",
    "\n",
    "- `triangular(low, high, mode)`: Returns a random float number between low and high with specified mode value. Here's an example:\n",
    "```python\n",
    "import random\n",
    "\n",
    "print(random.triangular(1.5, 2.5, 2))\n",
    "```\n",
    "Output: `1.8241591157480874`\n",
    "\n",
    "- `betavariate(alpha, beta)`: Returns a random float number based on the Beta distribution (used in statistics). Here's an example:\n",
    "```python\n",
    "import random\n",
    "\n",
    "alpha = 3\n",
    "beta = 5\n",
    "print(random.betavariate(alpha, beta))\n",
    "```\n",
    "Output: `0.3361842366972469`\n",
    "\n",
    "- `expovariate(lambd)`: Returns a random float number based on the Exponential distribution (used in statistics). Here's an example:\n",
    "```python\n",
    "import random\n",
    "\n",
    "lambd = 2\n",
    "print(random.expovariate(lambd))\n",
    "```\n",
    "Output: `0.1919317101557328`\n",
    "\n",
    "- `gammavariate(alpha, beta)`: Returns a random float number based on the Gamma distribution (used in statistics). Here's an example:\n",
    "```python\n",
    "import random\n",
    "\n",
    "alpha = 3\n",
    "beta = 5\n",
    "print(random.gammavariate(alpha, beta))\n",
    "```\n",
    "Output: `9.61804535853609`\n",
    "\n",
    "\n",
    "Source: Conversation with Bing, 21/10/2023 \n",
    "(1) Python Random Module - W3Schools. https://www.w3schools.com/python/module_random.asp.  \n",
    "(2) Python Random Module Tutorial - Examples Java Code Geeks - 2023. https://examples.javacodegeeks.com/python-random-module-tutorial/.  \n",
    "(3) Use Random Module to Generate Random Numbers in Python - Programiz. https://www.programiz.com/python-programming/modules/random.  \n",
    "(4) Python random.sample() With Examples - Spark By {Examples}. https://sparkbyexamples.com/python/python-random-sample-with-examples/.  \n",
    "(5) Python Random Module - GeeksforGeeks. https://www.geeksforgeeks.org/python-random-module/.  "
   ]
  },
  {
   "cell_type": "markdown",
   "metadata": {},
   "source": [
    "**#Rock-Paper-Scissor game**  \n",
    "Rock paper scissors (also known by other orderings of the three items, with \"rock\" sometimes being called \"stone\", or as Rochambeau, roshambo, or ro-sham-bo) is an intransitive hand game, usually played between two people, in which each player simultaneously forms one of three shapes with an outstretched hand. These shapes are \"rock\" (a closed fist), \"paper\" (a flat hand), and \"scissors\" (a fist with the index finger and middle finger extended, forming a V). The earliest form of \"rock paper scissors\"-style game originated in China and was subsequently imported into Japan, where it reached its modern standardized form, before being spread throughout the world in the early 20th century.\n",
    "\n",
    "A simultaneous, zero-sum game, it has three possible outcomes: a draw, a win or a loss. A player who decides to play rock will beat another player who has chosen scissors (\"rock crushes scissors\" or \"breaks scissors\" or sometimes \"blunts scissors\"), but will lose to one who has played paper (\"paper covers rock\"); a play of paper will lose to a play of scissors (\"scissors cuts paper\"). If both players choose the same shape, the game is tied and is usually replayed to break the tie.\n",
    "\n",
    "Rock paper scissors is often used as a fair choosing method between two people, similar to coin flipping, drawing straws, or throwing dice in order to settle a dispute or make an unbiased group decision. Unlike truly random selection methods, however, rock paper scissors can be played with some degree of skill by recognizing and exploiting non-random behavior in opponents.\n"
   ]
  },
  {
   "cell_type": "code",
   "execution_count": 102,
   "metadata": {},
   "outputs": [
    {
     "name": "stdout",
     "output_type": "stream",
     "text": [
      "\n",
      "Computer selected  Scissor  You are win for this turm\n",
      "\n",
      "Computer selected  Scissor  Computer is win for this turm.\n",
      "\n",
      "Computer selected  Scissor  Both are win for this turm\n",
      "\n",
      "Computer selected  Rock  Computer is win for this turm.\n",
      "\n",
      "Computer selected  Rock  you are win for this turm\n",
      "\n",
      "=================================================\n",
      "\n",
      "\t Score \n",
      "User Points are  25\n",
      "Computer Points are  25\n",
      "The match is drawn!\n"
     ]
    }
   ],
   "source": [
    "#Rock-Paper-Scissor game\n",
    "import random\n",
    "#Game rules and points \n",
    "'''\n",
    "     \"Wining rules\"\n",
    "1) Rock bits the Scissor\n",
    "2) Scissor bits the Paper\n",
    "3) Paper bits the Rock\n",
    "\n",
    "     \"Points for win and loss\"\n",
    "1> If you won you got 10 points and computer got 0 point\n",
    "2> If you loss you got 0 point and computer got 10 points\n",
    "3> If match is drawn then both are got 5 points\n",
    "'''\n",
    "def computerChoiseMethod():\n",
    "    #logic for the computer choosing random choise\n",
    "    ComputerChoiseSet = [\"Rock\",\"Paper\",\"Scissor\"]\n",
    "    computerChoise = random.choice(ComputerChoiseSet)\n",
    "    return computerChoise\n",
    "def userChoiseMethod():\n",
    "        #use choise\n",
    "    userChoise = input(\"Enter the choise: \")\n",
    "    userChoise = userChoise.capitalize()\n",
    "    return userChoise\n",
    "userPoints = 0\n",
    "computerPoints = 0\n",
    "bestOfFive = 0\n",
    "\n",
    "def gameLogics(userPoints,computerPoints,bestOfFive):\n",
    "    while bestOfFive<5:\n",
    "        print()\n",
    "        computerChoise = computerChoiseMethod()\n",
    "        #print(computerChoise)\n",
    "        userChoise = userChoiseMethod()\n",
    "        if computerChoise==\"Rock\" and userChoise==\"Rock\":\n",
    "            print(\"Computer selected \",computerChoise,\" Both are win for this turm.\")\n",
    "            userPoints = userPoints+5\n",
    "            computerPoints = computerPoints+5\n",
    "        elif computerChoise==\"Rock\" and userChoise==\"Paper\":\n",
    "            print(\"Computer selected \",computerChoise,\" you are win for this turm\")\n",
    "            userPoints = userPoints+10\n",
    "        elif computerChoise==\"Rock\" and userChoise==\"Scissor\":\n",
    "            print(\"Computer selected \",computerChoise,\" Computer is win for this turm.\")\n",
    "            computerPoints = computerPoints+10\n",
    "        elif computerChoise==\"Paper\" and userChoise==\"Rock\":\n",
    "            print(\"Computer selected \",computerChoise,\" Computer is win for this turm.\")\n",
    "            computerPoints = computerPoints+10\n",
    "        elif computerChoise==\"Paper\" and userChoise==\"Paper\":\n",
    "            print(\"Computer selected \",computerChoise,\" Both are win for this turm.\")\n",
    "            userPoints = userPoints+5\n",
    "            computerPoints = computerPoints+5\n",
    "        elif computerChoise==\"Paper\" and userChoise==\"Scissor\":\n",
    "            print(\"Computer selected \",computerChoise,\" You are win for this turm\")\n",
    "            userPoints = userPoints+10\n",
    "        elif computerChoise==\"Scissor\" and userChoise==\"Rock\":\n",
    "            print(\"Computer selected \",computerChoise,\" You are win for this turm\")\n",
    "            userPoints = userPoints+10\n",
    "        elif computerChoise==\"Scissor\" and userChoise==\"Paper\":  \n",
    "            print(\"Computer selected \",computerChoise,\" Computer is win for this turm.\")\n",
    "            computerPoints = computerPoints+10\n",
    "        elif computerChoise==\"Scissor\" and userChoise==\"Scissor\":\n",
    "            print(\"Computer selected \",computerChoise,\" Both are win for this turm\")\n",
    "            userPoints = userPoints+5\n",
    "            computerPoints = computerPoints+5\n",
    "        else:\n",
    "            print(\"You have entered wrong spelling of invailid word!, please check and reenter.\")\n",
    "            bestOfFive = bestOfFive-1\n",
    "        bestOfFive = bestOfFive+1\n",
    "    bothPoints = [userPoints,computerPoints]\n",
    "    return bothPoints\n",
    "    \n",
    "def decision(userPoints,computerPoints):\n",
    "    print()\n",
    "    print(\"=================================================\")\n",
    "    print()\n",
    "    print(\"\\t Score \")\n",
    "    print(\"User Points are \",userPoints)\n",
    "    print(\"Computer Points are \",computerPoints)\n",
    "    if computerPoints>userPoints:\n",
    "        print(\"You loss the match!\")\n",
    "    elif userPoints>computerPoints:\n",
    "        print(\"Congratulations, you won the match!\")\n",
    "    else:\n",
    "        print(\"The match is drawn!\")\n",
    "\n",
    "#calling the functions\n",
    "#userChoise = userChoiseMethod()\n",
    "bothPoints = gameLogics(userPoints,computerPoints,bestOfFive)\n",
    "decision(bothPoints[0],bothPoints[1])"
   ]
  }
 ],
 "metadata": {
  "kernelspec": {
   "display_name": "Python 3",
   "language": "python",
   "name": "python3"
  },
  "language_info": {
   "codemirror_mode": {
    "name": "ipython",
    "version": 3
   },
   "file_extension": ".py",
   "mimetype": "text/x-python",
   "name": "python",
   "nbconvert_exporter": "python",
   "pygments_lexer": "ipython3",
   "version": "3.12.0"
  }
 },
 "nbformat": 4,
 "nbformat_minor": 2
}
