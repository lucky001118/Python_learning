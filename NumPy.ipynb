{
 "cells": [
  {
   "cell_type": "markdown",
   "metadata": {},
   "source": [
    "**NumPy Module**"
   ]
  },
  {
   "cell_type": "markdown",
   "metadata": {},
   "source": [
    "NumPy is a Python library.  \n",
    "NumPy is used for working with arrays.  \n",
    "NumPy is short for \"Numerical Python\".  "
   ]
  },
  {
   "cell_type": "markdown",
   "metadata": {},
   "source": [
    "**What is NumPy?**  \n",
    "NumPy is a Python library used for working with arrays.  \n",
    "It also has functions for working in domain of linear algebra, fourier transform, and matrices.  \n",
    "NumPy was created in 2005 by Travis Oliphant. It is an open source project and you can use it freely.  \n",
    "NumPy stands for Numerical Python.  \n",
    "\n",
    "**Why Use NumPy?**  \n",
    "In Python we have lists that serve the purpose of arrays, but they are slow to process.  \n",
    "NumPy aims to provide an array object that is up to 50x faster than traditional Python lists.  \n",
    "The array object in NumPy is called ndarray, it provides a lot of supporting functions that make working with ndarray very easy.  \n",
    "Arrays are very frequently used in data science, where speed and resources are very important.  \n",
    "\n",
    "**Why is NumPy Faster Than Lists?**  \n",
    "NumPy arrays are stored at one continuous place in memory unlike lists, so processes can access and manipulate them very efficiently.  \n",
    "This behavior is called locality of reference in computer science.  \n",
    "This is the main reason why NumPy is faster than lists. Also it is optimized to work with latest CPU architectures.\n",
    "\n",
    "**Which Language is NumPy written in?**  \n",
    "NumPy is a Python library and is written partially in Python, but most of the parts that require fast computation are written in C or C++.  \n",
    "\n",
    "**Where is the NumPy Codebase?**  \n",
    "The source code for NumPy is located at this github repository https://github.com/numpy/numpy"
   ]
  },
  {
   "cell_type": "markdown",
   "metadata": {},
   "source": [
    "**Installation of NumPy**  \n",
    "If you have Python and PIP already installed on a system, then installation of NumPy is very easy.  \n",
    " \n",
    "Install it using this command: \n",
    "C:\\Users\\Your Name>pip install numpy  \n",
    "\n",
    "If this command fails, then use a python distribution that already has NumPy installed like, Anaconda, Spyder etc."
   ]
  },
  {
   "cell_type": "markdown",
   "metadata": {},
   "source": [
    "**Import NumPy**  \n",
    "Once NumPy is installed, import it in your applications by adding the import keyword:  \n",
    "\n",
    "import numpy  \n",
    "\n",
    "Now NumPy is imported and ready to use. \n",
    "\n",
    "**NumPy as np**  \n",
    "NumPy is usually imported under the np alias.  \n",
    "\n",
    "alias: In Python alias are an alternate name for referring to the same thing.  \n",
    "\n",
    "import numpy as np  \n",
    "Now the NumPy package can be referred to as np instead of numpy.  \n",
    "\n",
    "**Checking NumPy Version**  \n",
    "The version string is stored under __version__ attribute.\n"
   ]
  },
  {
   "cell_type": "code",
   "execution_count": 1,
   "metadata": {},
   "outputs": [
    {
     "name": "stdout",
     "output_type": "stream",
     "text": [
      "[1 2 3 4 5]\n",
      "[1 2 3 4 5]\n",
      "The version of the numpy is: 1.26.0\n"
     ]
    }
   ],
   "source": [
    "#ExampleGet your own Python Server\n",
    "import numpy\n",
    "arr = numpy.array([1, 2, 3, 4, 5])  #this is the basic syntex to create an array in the numpy library\n",
    "print(arr)\n",
    "\n",
    "#Example Create an alias with the as keyword while importing: \n",
    "import numpy as np\n",
    "arr = np.array([1, 2, 3, 4, 5])\n",
    "print(arr)\n",
    "\n",
    "#chinhg the version of the numpy \n",
    "version_of_numpy = np.__version__\n",
    "print(f\"The version of the numpy is: {version_of_numpy}\")"
   ]
  },
  {
   "cell_type": "markdown",
   "metadata": {},
   "source": [
    "**Create a NumPy ndarray Object**  \n",
    "NumPy is used to work with arrays. The array object in NumPy is called ndarray.  \n",
    "We can create a NumPy ndarray object by using the array() function.  \n",
    "\n",
    "type(): This built-in Python function tells us the type of the object passed to it. Like in above code it shows that arr is numpy.ndarray type. \n",
    "\n",
    "To create an ndarray, we can pass a list, tuple or any array-like object into the array() method, and it will be converted into an ndarray:  "
   ]
  },
  {
   "cell_type": "code",
   "execution_count": 2,
   "metadata": {},
   "outputs": [
    {
     "name": "stdout",
     "output_type": "stream",
     "text": [
      "[  8  56  48  65  25 555  25]\n",
      "The type of the array1 is:  <class 'numpy.ndarray'>\n",
      "The array2 is: [  5   6   8   2 102  58  54]\n",
      "<class 'numpy.ndarray'>\n"
     ]
    }
   ],
   "source": [
    "array1 = np.array([8,56,48,65,25,555,25])  #here passing the list in the array() function\n",
    "print(array1)\n",
    "print(\"The type of the array1 is: \",type(array1))\n",
    "\n",
    "#now going to create the array with passing tuple in the array() function\n",
    "array2 = np.array((5,6,8,2,102,58,54))\n",
    "print(f\"The array2 is: {array2}\")\n",
    "print(type(array2))"
   ]
  },
  {
   "cell_type": "markdown",
   "metadata": {},
   "source": [
    "**Dimensions in Arrays**  \n",
    "A dimension in arrays is one level of array depth (nested arrays).  \n",
    "nested array: are arrays that have arrays as their elements.  \n",
    "\n",
    "**0-D Arrays**  \n",
    "0-D arrays, or Scalars, are the elements in an array. Each value in an array is a 0-D array.  \n",
    "\n",
    "**1-D Arrays**  \n",
    "An array that has 0-D arrays as its elements is called uni-dimensional or 1-D array.  \n",
    "These are the most common and basic arrays. \n",
    "\n",
    "**2-D Arrays**  \n",
    "An array that has 1-D arrays as its elements is called a 2-D array.  \n",
    "These are often used to represent matrix or 2nd order tensors.  \n",
    "\n",
    "NumPy has a whole sub module dedicated towards matrix operations called numpy.mat \n",
    "\n",
    "**3-D arrays**  \n",
    "An array that has 2-D arrays (matrices) as its elements is called 3-D array.  \n",
    "These are often used to represent a 3rd order tensor. \n",
    "\n",
    "**Check Number of Dimensions?**  \n",
    "NumPy Arrays provides the ndim attribute that returns an integer that tells us how many dimensions the array have.  \n",
    "\n",
    "**Higher Dimensional Arrays**  \n",
    "An array can have any number of dimensions.  \n",
    "When the array is created, you can define the number of dimensions by using the ndmin argument.  \n",
    "\n"
   ]
  },
  {
   "cell_type": "code",
   "execution_count": 3,
   "metadata": {},
   "outputs": [
    {
     "name": "stdout",
     "output_type": "stream",
     "text": [
      "The zero-D array is:  42  and thier type is:  <class 'numpy.ndarray'>\n",
      "The 1-D array is:  [1 2 3 4 5]  and thier type is:  <class 'numpy.ndarray'>\n",
      "\n",
      "The 2-D array is:  [[1 2 3]\n",
      " [4 5 6]]  and it's type is:  <class 'numpy.ndarray'>\n",
      "\n",
      "The 3-D array is:  [[[111 112 113]\n",
      "  [121 122 123]]\n",
      "\n",
      " [[211 212 213]\n",
      "  [221 222 223]]]  and it's type is:  <class 'numpy.ndarray'>\n",
      "\n",
      "0\n",
      "1\n",
      "2\n",
      "3\n",
      "\n",
      "[[[[[1 2 3 4]]]]]\n",
      "number of dimensions : 5\n"
     ]
    },
    {
     "data": {
      "text/plain": [
       "'\\nIn this array the innermost dimension (5th dim) has 4 elements,\\nthe 4th dim has 1 element that is the vector, \\nthe 3rd dim has 1 element that is the matrix with the vector, \\nthe 2nd dim has 1 element that is 3D array and 1st dim has 1 element that is a 4D array. \\n'"
      ]
     },
     "execution_count": 3,
     "metadata": {},
     "output_type": "execute_result"
    }
   ],
   "source": [
    "#creating the 0-level arrays\n",
    "#Create a 0-D array with value 42\n",
    "arr0 = np.array(42)\n",
    "print(\"The zero-D array is: \",arr0,\" and thier type is: \",type(arr0))\n",
    "\n",
    "#Create a 1-D array containing the values 1,2,3,4,5:\n",
    "arr1 = np.array([1, 2, 3, 4, 5])\n",
    "print(\"The 1-D array is: \",arr1,\" and thier type is: \",type(arr1))\n",
    "print()\n",
    "\n",
    "#Create a 2-D array containing two arrays with the values 1,2,3 and 4,5,6:\n",
    "arr2 = np.array([[1, 2, 3], [4, 5, 6]])\n",
    "print(\"The 2-D array is: \",arr2,\" and it's type is: \",type(arr2))\n",
    "print()\n",
    "\n",
    "#creating the three dimention arrays\n",
    "arr3 = np.array([[[111,112,113],[121,122,123]],[[211,212,213],[221,222,223]]])\n",
    "print(\"The 3-D array is: \",arr3,\" and it's type is: \",type(arr3))\n",
    "print()\n",
    "\n",
    "#Check how many dimensions the arrays have: using the keyword 'ndim'\n",
    "print(arr0.ndim)\n",
    "print(arr1.ndim)\n",
    "print(arr2.ndim)\n",
    "print(arr3.ndim)\n",
    "print()\n",
    "\n",
    "#Creating the higher order arrays like 5D or 6D or 7D ..\n",
    "#Create an array with 5 dimensions and verify that it has 5 dimensions:\n",
    "arr = np.array([1, 2, 3, 4], ndmin=5)\n",
    "print(arr)\n",
    "print('number of dimensions :', arr.ndim)\n",
    "'''\n",
    "In this array the innermost dimension (5th dim) has 4 elements,\n",
    "the 4th dim has 1 element that is the vector, \n",
    "the 3rd dim has 1 element that is the matrix with the vector, \n",
    "the 2nd dim has 1 element that is 3D array and 1st dim has 1 element that is a 4D array. \n",
    "'''"
   ]
  },
  {
   "cell_type": "markdown",
   "metadata": {},
   "source": [
    "**NumPy Array Indexing** "
   ]
  },
  {
   "cell_type": "markdown",
   "metadata": {},
   "source": [
    "**Access Array Elements**  \n",
    "Array indexing is the same as accessing an array element.  \n",
    "You can access an array element by referring to its index number.  \n",
    "The indexes in NumPy arrays start with 0, meaning that the first element has index 0, and the second has index 1 etc.  \n",
    "\n",
    "**Access 2-D Arrays**  \n",
    "To access elements from 2-D arrays we can use comma separated integers representing the dimension and the index of the element.  \n",
    "Think of 2-D arrays like a table with rows and columns, where the dimension represents the row and the index represents the column.  \n",
    "\n",
    "**Access 3-D Arrays**  \n",
    "To access elements from 3-D arrays we can use comma separated integers representing the dimensions and the index of the element.  \n",
    "\n",
    "**Negative Indexing**  \n",
    "Use negative indexing to access an array from the end."
   ]
  },
  {
   "cell_type": "code",
   "execution_count": 4,
   "metadata": {},
   "outputs": [
    {
     "name": "stdout",
     "output_type": "stream",
     "text": [
      "The ele at the 0th position is:  1\n",
      "The ele at the 3rd position is:  3\n",
      "The additon is:  7\n",
      "\n",
      "2nd element on 1st row:  2\n",
      "5th element on 2nd row:  10\n",
      "2nd element on 3rd row:  12\n",
      "\n",
      "6\n",
      "9\n",
      "\n",
      "Last element from 2nd dim:  10\n",
      "The 3rd last value is:  8\n",
      "The second value at the first array is:  2\n"
     ]
    }
   ],
   "source": [
    "#deal with the 1D arrays\n",
    "#Get the first element from the following array:\n",
    "arr11 = np.array([1, 2, 3, 4])\n",
    "print(\"The ele at the 0th position is: \",arr11[0])\n",
    "#Get the third element from the following array:\n",
    "arr11 = np.array([1, 2, 3, 4])\n",
    "print(\"The ele at the 3rd position is: \",arr11[2])\n",
    "#Get third and fourth elements from the following array and add them.\n",
    "addition_of_arr11 = arr11[2]+arr11[3]\n",
    "print(\"The additon is: \",addition_of_arr11)\n",
    "print()\n",
    "\n",
    "#deal with the 2D arrays\n",
    "#Access the element on the first row, second column:\n",
    "arr22 = np.array([[1,2,3,4,5], [6,7,8,9,10]])\n",
    "print('2nd element on 1st row: ', arr22[0, 1])\n",
    "#Access the element on the 2nd row, 5th column:\n",
    "print('5th element on 2nd row: ', arr22[1, 4])\n",
    "#Access the elem on the 3rd row, 2nd column\n",
    "arr22 = np.array([[1,2,3,4,5], [6,7,8,9,10],[11,12,13,14,15]])\n",
    "print('2nd element on 3rd row: ', arr22[2, 1])\n",
    "print()\n",
    "\n",
    "#deal with the 3D arrays\n",
    "#Access the third element of the second array of the first array: (1st)'s->(2nd)'s->(3rd element)\n",
    "arr33 = np.array([[[1, 2, 3], [4, 5, 6]], [[7, 8, 9], [10, 11, 12]]])\n",
    "print(arr33[0, 1, 2])\n",
    "''' \n",
    "arr[0, 1, 2] prints the value 6.\n",
    "\n",
    "And this is why:\n",
    "\n",
    "The first number represents the first dimension, which contains two arrays:\n",
    "[[1, 2, 3], [4, 5, 6]]\n",
    "and:\n",
    "[[7, 8, 9], [10, 11, 12]]\n",
    "Since we selected 0, we are left with the first array:\n",
    "[[1, 2, 3], [4, 5, 6]]\n",
    "\n",
    "The second number represents the second dimension, which also contains two arrays:\n",
    "[1, 2, 3]\n",
    "and:\n",
    "[4, 5, 6]\n",
    "Since we selected 1, we are left with the second array:\n",
    "[4, 5, 6]\n",
    "\n",
    "The third number represents the third dimension, which contains three values:\n",
    "4\n",
    "5\n",
    "6\n",
    "Since we selected 2, we end up with the third value:\n",
    "6\n",
    "'''\n",
    "#access the 3nd elem of the first array of 2nd arrays: (2nd)'s->(1st)'s->(3rd element)\n",
    "print(arr33[1,0,2])\n",
    "print()\n",
    "\n",
    "#deal with negative indexing\n",
    "#Print the last element from the 2nd dim:\n",
    "arr = np.array([[1,2,3,4,5], [6,7,8,9,10]])\n",
    "print('Last element from 2nd dim: ', arr[1, -1])\n",
    "#3rd last value\n",
    "print(\"The 3rd last value is: \",arr[-1,-3])\n",
    "#2nd value at 1st array\n",
    "print(\"The second value at the first array is: \",arr[-2,-4])"
   ]
  },
  {
   "cell_type": "markdown",
   "metadata": {},
   "source": [
    "**NumPy Array Slicing**"
   ]
  },
  {
   "cell_type": "markdown",
   "metadata": {},
   "source": [
    "**Slicing arrays**  \n",
    "Slicing in python means taking elements from one given index to another given index.  \n",
    "We pass slice instead of index like this: [start:end].  \n",
    "We can also define the step, like this: [start:end:step].  \n",
    "If we don't pass start its considered 0  \n",
    "If we don't pass end its considered length of array in that dimension  \n",
    "If we don't pass step its considered 1  \n",
    "Note: The result includes the start index, but excludes the end index.  \n",
    "\n",
    "**Negative Slicing**  \n",
    "Use the minus operator to refer to an index from the end:  \n",
    "\n",
    "**STEP**  \n",
    "Use the step value to determine the step of the slicing:  "
   ]
  },
  {
   "cell_type": "code",
   "execution_count": 5,
   "metadata": {},
   "outputs": [
    {
     "name": "stdout",
     "output_type": "stream",
     "text": [
      "[2 3 4 5]\n",
      "[5 6 7]\n",
      "[1 2 3 4]\n",
      "\n",
      "Slicing with the Negative index\n",
      "[5 6]\n",
      "[1 2 3 4 5 6]\n",
      "\n",
      "Slicing with stape parameter\n",
      "[2 4]\n",
      "[1 3 5 7]\n",
      "\n",
      "2D-Array Slicing\n",
      "[7 8 9]\n",
      "[3 8]\n",
      "[[2 3 4]\n",
      " [7 8 9]]\n"
     ]
    }
   ],
   "source": [
    "#Slice elements from index 1 to index 5 from the following array:\n",
    "import numpy as np\n",
    "arr = np.array([1, 2, 3, 4, 5, 6, 7])\n",
    "print(arr[1:5])\n",
    "#Slice elements from index 4 to the end of the array:\n",
    "print(arr[4:]) \n",
    "#Slice elements from the beginning to index 4 (not included):\n",
    "print(arr[:4])\n",
    "print()\n",
    "\n",
    "#Negative slicing\n",
    "print(\"Slicing with the Negative index\")\n",
    "#Slice from the index 3 from the end to index 1 from the end:\n",
    "print(arr[-3:-1])\n",
    "#last to first\n",
    "print(arr[:-1])\n",
    "print()\n",
    "\n",
    "#Stape parameter\n",
    "print(\"Slicing with stape parameter\")\n",
    "#Return every other element from index 1 to index 5: 2 elm chhod ke \n",
    "print(arr[1:5:2])\n",
    "#Return every other element from the entire array:\n",
    "print(arr[::2])\n",
    "print()\n",
    "\n",
    "#Slicing in the 2D arrays\n",
    "print(\"2D-Array Slicing\")\n",
    "#From the second element, slice elements from index 1 to index 4 (not included):\n",
    "arr = np.array([[1, 2, 3, 4, 5], [6, 7, 8, 9, 10]])\n",
    "print(arr[1,1:4])  \n",
    "#From both elements, return index 2:\n",
    "print(arr[0:2,2])\n",
    "#From both elements, slice index 1 to index 4 (not included), this will return a 2-D array:\n",
    "print(arr[0:2,1:4])\n"
   ]
  },
  {
   "cell_type": "markdown",
   "metadata": {},
   "source": [
    "**NumPy Data Types**"
   ]
  },
  {
   "cell_type": "markdown",
   "metadata": {},
   "source": [
    "**Data Types in Python**  \n",
    "By default Python have these data types:  \n",
    "strings - used to represent text data, the text is given under quote marks. e.g. \"ABCD\"  \n",
    "integer - used to represent integer numbers. e.g. -1, -2, -3  \n",
    "float - used to represent real numbers. e.g. 1.2, 42.42  \n",
    "boolean - used to represent True or False.  \n",
    "complex - used to represent complex numbers. e.g. 1.0 + 2.0j, 1.5 + 2.5j  \n",
    "Data Types in NumPy  \n",
    "NumPy has some extra data types, and refer to data types with one character, like i for integers, u for unsigned integers etc.  \n",
    "\n",
    "Below is a list of all data types in NumPy and the characters used to represent them.  \n",
    "\n",
    "i - integer  \n",
    "b - boolean   \n",
    "u - unsigned integer   \n",
    "f - float   \n",
    "c - complex float   \n",
    "m - timedelta    \n",
    "M - datetime   \n",
    "O - object   \n",
    "S - string    \n",
    "U - unicode string    \n",
    "V - fixed chunk of memory for other type ( void )    \n",
    "\n",
    "**Checking the Data Type of an Array**  \n",
    "The NumPy array object has a property called dtype that returns the data type of the array:  \n",
    "\n",
    "**Creating Arrays With a Defined Data Type**  \n",
    "We use the array() function to create arrays, this function can take an optional argument: dtype that allows us to define the expected data type of the array elements:  \n",
    "\n",
    "**What if a Value Can Not Be Converted?**  \n",
    "If a type is given in which elements can't be casted then NumPy will raise a ValueError.  \n",
    "\n",
    "ValueError: In Python ValueError is raised when the type of passed argument to a function is unexpected/incorrect.  \n",
    "\n",
    "**Converting Data Type on Existing Arrays**  \n",
    "The best way to change the data type of an existing array, is to make a copy of the array with the astype() method.  \n",
    "The astype() function creates a copy of the array, and allows you to specify the data type as a parameter.   \n",
    "The data type can be specified using a string, like 'f' for float, 'i' for integer etc. or you can use the data type directly like float for float and int for integer.  "
   ]
  },
  {
   "cell_type": "code",
   "execution_count": 6,
   "metadata": {},
   "outputs": [
    {
     "name": "stdout",
     "output_type": "stream",
     "text": [
      "int32\n",
      "['apple' 'banana' 'cherry']\n",
      "<U6\n",
      "[b'1' b'2' b'3' b'4']\n",
      "|S1\n",
      "arr2 data-type is:  float32\n",
      "arr2 data-type is:  |S1\n",
      "[1 2 3 4]\n",
      "int32\n",
      "[1. 2. 3. 4.]\n",
      "float32\n",
      "int32\n",
      "[ True False  True]\n",
      "bool\n"
     ]
    }
   ],
   "source": [
    "#Get the data type of an array object:\n",
    "arr = np.array([1, 2, 3, 4])\n",
    "print(arr.dtype)\n",
    "#Get the data type of an array containing strings:\n",
    "arr = np.array(['apple', 'banana', 'cherry'])\n",
    "print(arr)\n",
    "print(arr.dtype)\n",
    "\n",
    "#creating the array with the define data-type\n",
    "arr1 = np.array([1, 2, 3, 4], dtype='S')\n",
    "print(arr1)\n",
    "print(arr1.dtype)\n",
    "arr2 = np.array([45,25,56,89.09,45],dtype='f')\n",
    "print(\"arr2 data-type is: \",arr2.dtype)\n",
    "arr22 = np.array([45,25,56,89.09,45],dtype='c')\n",
    "print(\"arr2 data-type is: \",arr22.dtype)\n",
    "arr = np.array([1, 2, 3, 4], dtype='i4')\n",
    "print(arr)\n",
    "print(arr.dtype)\n",
    "\n",
    "#Converting Data Type on Existing Arrays (converting the one data-type to another data-type in the numpy)\n",
    "arr44 = np.array([1, 2, 3, 4], dtype='i')\n",
    "arr55 = arr44.astype('f')\n",
    "print(arr55)\n",
    "print(arr55.dtype)\n",
    "\n",
    "arr66 = np.array([2.39,44.90,78.8,55.45],dtype='f')\n",
    "arr77 = arr66.astype('i')\n",
    "print(arr77.dtype)\n",
    "#Change data type from integer to boolean:\n",
    "arr88 = np.array([1, 0, 3])\n",
    "newarr99 = arr88.astype(bool)\n",
    "print(newarr99)\n",
    "print(newarr99.dtype)"
   ]
  },
  {
   "cell_type": "code",
   "execution_count": 7,
   "metadata": {},
   "outputs": [
    {
     "ename": "ValueError",
     "evalue": "invalid literal for int() with base 10: 'a'",
     "output_type": "error",
     "traceback": [
      "\u001b[1;31m---------------------------------------------------------------------------\u001b[0m",
      "\u001b[1;31mValueError\u001b[0m                                Traceback (most recent call last)",
      "\u001b[1;32md:\\CodingLanguages\\Python\\NumPy.ipynb Cell 20\u001b[0m line \u001b[0;36m1\n\u001b[1;32m----> <a href='vscode-notebook-cell:/d%3A/CodingLanguages/Python/NumPy.ipynb#X25sZmlsZQ%3D%3D?line=0'>1</a>\u001b[0m arr22 \u001b[39m=\u001b[39m np\u001b[39m.\u001b[39;49marray([\u001b[39m'\u001b[39;49m\u001b[39ma\u001b[39;49m\u001b[39m'\u001b[39;49m,\u001b[39m8363\u001b[39;49m,\u001b[39m393\u001b[39;49m,\u001b[39m43\u001b[39;49m,\u001b[39m34\u001b[39;49m,\u001b[39m'\u001b[39;49m\u001b[39mb\u001b[39;49m\u001b[39m'\u001b[39;49m],dtype\u001b[39m=\u001b[39;49m\u001b[39m'\u001b[39;49m\u001b[39mi\u001b[39;49m\u001b[39m'\u001b[39;49m)\n\u001b[0;32m      <a href='vscode-notebook-cell:/d%3A/CodingLanguages/Python/NumPy.ipynb#X25sZmlsZQ%3D%3D?line=1'>2</a>\u001b[0m \u001b[39mprint\u001b[39m(arr2)\n\u001b[0;32m      <a href='vscode-notebook-cell:/d%3A/CodingLanguages/Python/NumPy.ipynb#X25sZmlsZQ%3D%3D?line=2'>3</a>\u001b[0m \u001b[39mprint\u001b[39m(arr22\u001b[39m.\u001b[39mdtype)\n",
      "\u001b[1;31mValueError\u001b[0m: invalid literal for int() with base 10: 'a'"
     ]
    }
   ],
   "source": [
    "arr22 = np.array(['a',8363,393,43,34,'b'],dtype='i')\n",
    "print(arr2)\n",
    "print(arr22.dtype)"
   ]
  },
  {
   "cell_type": "markdown",
   "metadata": {},
   "source": [
    "**NumPy Array Copy vs View**"
   ]
  },
  {
   "cell_type": "markdown",
   "metadata": {},
   "source": [
    "**The Difference Between Copy and View**  \n",
    "The main difference between a copy and a view of an array is that the copy is a new array, and the view is just a view of the original array.  \n",
    "The copy owns the data and any changes made to the copy will not affect original array, and any changes made to the original array will not affect the copy.  \n",
    "The view does not own the data and any changes made to the view will affect the original array, and any changes made to the original array will affect the view.  \n",
    "\n",
    "**Check if Array Owns its Data**  \n",
    "As mentioned above, copies owns the data, and views does not own the data, but how can we check this?  \n",
    "Every NumPy array has the attribute base that returns None if the array owns the data.  \n",
    "Otherwise, the base  attribute refers to the original object.\n",
    "\n"
   ]
  },
  {
   "cell_type": "code",
   "execution_count": null,
   "metadata": {},
   "outputs": [
    {
     "name": "stdout",
     "output_type": "stream",
     "text": [
      "The array element is:  [42  2  3  4  5]\n",
      "The copy elements is:  [1 2 3 4 5]\n",
      "\n",
      "The array element is:  [42  2  3  4  5]\n",
      "The copy elements is:  [42  2  3  4  5]\n",
      "\n",
      "None\n",
      "[1 2 3 4 5]\n"
     ]
    }
   ],
   "source": [
    "#Make a copy, change the original array, and display both arrays:\n",
    "#if you make an array and copy thats array in the other variable and after copy you doing changes in the that array, then that new copied value not affexted only changes valid in the array\n",
    "#The copy SHOULD NOT be affected by the changes made to the original array.\n",
    "arr = np.array([1, 2, 3, 4, 5])\n",
    "x = arr.copy()\n",
    "arr[0] = 42\n",
    "print(\"The array element is: \",arr)\n",
    "print(\"The copy elements is: \",x)\n",
    "print()\n",
    "\n",
    "#Make a view, change the original array, and display both arrays:\n",
    "#The view SHOULD be affected by the changes made to the original array.\n",
    "arr = np.array([1, 2, 3, 4, 5])\n",
    "x = arr.view()\n",
    "arr[0] = 42\n",
    "print(\"The array element is: \",arr)\n",
    "print(\"The copy elements is: \",x)\n",
    "print()\n",
    "\n",
    "#'base' attribute\n",
    "#Print the value of the base attribute to check if an array owns it's data or not:\n",
    "arr = np.array([1, 2, 3, 4, 5])\n",
    "x = arr.copy()\n",
    "y = arr.view()\n",
    "print(x.base)\n",
    "print(y.base)\n",
    "#The copy returns None.\n",
    "#The view returns the original array.\n",
    "#becouse view()-> don't owns the data just view the where we getting refrence hece changese eill affected changes and copy()-> owns the data hase dose not affected changes"
   ]
  },
  {
   "cell_type": "markdown",
   "metadata": {},
   "source": [
    "**NumPy Array Shape**"
   ]
  },
  {
   "cell_type": "markdown",
   "metadata": {},
   "source": [
    "**Shape of an Array**  \n",
    "The shape of an array is the number of elements in each dimension.  \n",
    "\n",
    "**Get the Shape of an Array**  \n",
    "NumPy arrays have an attribute called shape that returns a tuple with each index having the number of corresponding elements.  "
   ]
  },
  {
   "cell_type": "code",
   "execution_count": null,
   "metadata": {},
   "outputs": [
    {
     "name": "stdout",
     "output_type": "stream",
     "text": [
      "(3,)\n",
      "(2, 4)\n",
      "shape of array : (1, 1, 1, 1, 4)\n"
     ]
    }
   ],
   "source": [
    "#just shape is return the size of the array at the tuple if array is multidimention the it return each dimentions sizes\n",
    "arr = np.array([974.5,498.9,3444.0])\n",
    "print(arr.shape)\n",
    "\n",
    "#Print the shape of a 2-D array:\n",
    "arr = np.array([[1, 2, 3, 4], [5, 6, 7, 8]])\n",
    "print(arr.shape)\n",
    "'''The example above returns (2, 4), which means that the array has 2 dimensions, where the first dimension has 2 elements and the second has 4.'''\n",
    "\n",
    "#Create an array with 5 dimensions using ndmin using a vector with values 1,2,3,4 and verify that last dimension has value 4:\n",
    "arr = np.array([1, 2, 3, 4], ndmin=5)\n",
    "print('shape of array :', arr.shape)\n",
    "\n"
   ]
  },
  {
   "cell_type": "markdown",
   "metadata": {},
   "source": [
    "**NumPy Array Reshaping**"
   ]
  },
  {
   "cell_type": "markdown",
   "metadata": {},
   "source": [
    "**Reshaping arrays**  \n",
    "Reshaping means changing the shape of an array.  \n",
    "The shape of an array is the number of elements in each dimension.  \n",
    "By reshaping we can add or remove dimensions or change number of elements in each dimension.  \n",
    "\n",
    "**Can We Reshape Into any Shape?**  \n",
    "Yes, as long as the elements required for reshaping are equal in both shapes.  \n",
    "We can reshape an 8 elements 1D array into 4 elements in 2 rows 2D array but we cannot reshape it into a 3 elements 3 rows 2D array as that would require 3x3 = 9 elements.\n",
    "\n",
    "**Unknown Dimension**  \n",
    "You are allowed to have one \"unknown\" dimension.  \n",
    "Meaning that you do not have to specify an exact number for one of the dimensions in the reshape method.  \n",
    "Pass -1 as the value, and NumPy will calculate this number for you.   \n",
    "\n",
    "**Flattening the arrays**  \n",
    "Flattening array means converting a multidimensional array into a 1D array.  \n",
    "We can use reshape(-1) to do this.  \n",
    "Note: There are a lot of functions for changing the shapes of arrays in numpy flatten, ravel and also for rearranging the elements rot90, flip, fliplr, flipud etc. These fall under Intermediate to Advanced section of numpy. "
   ]
  },
  {
   "cell_type": "code",
   "execution_count": null,
   "metadata": {},
   "outputs": [
    {
     "name": "stdout",
     "output_type": "stream",
     "text": [
      "[[ 1  2  3]\n",
      " [ 4  5  6]\n",
      " [ 7  8  9]\n",
      " [10 11 12]]\n",
      "\n",
      "[[[ 1  2]\n",
      "  [ 3  4]\n",
      "  [ 5  6]]\n",
      "\n",
      " [[ 7  8]\n",
      "  [ 9 10]\n",
      "  [11 12]]]\n",
      "\n",
      "[1 2 3 4 5 6 7 8]\n",
      "\n",
      "[[[1 2]\n",
      "  [3 4]]\n",
      "\n",
      " [[5 6]\n",
      "  [7 8]]]\n",
      "\n",
      "[1 2 3 4 5 6]\n"
     ]
    }
   ],
   "source": [
    "#Reshape From 1-D to 2-D\n",
    "#Convert the following 1-D array with 12 elements into a 2-D array.\n",
    "#The outermost dimension will have 4 arrays, each with 3 elements:\n",
    "arr = np.array([1, 2, 3, 4, 5, 6, 7, 8, 9, 10, 11, 12])\n",
    "newarr = arr.reshape(4, 3)\n",
    "print(newarr)\n",
    "print()\n",
    "\n",
    "#Reshape From 1-D to 3-D\n",
    "#Convert the following 1-D array with 12 elements into a 3-D array.\n",
    "#The outermost dimension will have 2 arrays that contains 3 arrays, each with 2 elements:\n",
    "arr = np.array([1, 2, 3, 4, 5, 6, 7, 8, 9, 10, 11, 12])\n",
    "newarr = arr.reshape(2, 3, 2)\n",
    "print(newarr)\n",
    "print()\n",
    "\n",
    "#Returns Copy or View?\n",
    "#Check if the returned array is a copy or a view:\n",
    "arr = np.array([1, 2, 3, 4, 5, 6, 7, 8])\n",
    "print(arr.reshape(2, 4).base)\n",
    "print()\n",
    "#The example above returns the original array, so it is a view.\n",
    "\n",
    "#converting into the unknown dimentions\n",
    "#Convert 1D array with 8 elements to 3D array with 2x2 elements:\n",
    "arr = np.array([1, 2, 3, 4, 5, 6, 7, 8])\n",
    "newarr = arr.reshape(2, 2, -1)\n",
    "print(newarr)\n",
    "print()\n",
    "#Note: We can not pass -1 to more than one dimension.\n",
    "\n",
    "#Flattening the arrays\n",
    "#Convert the array into a 1D array:\n",
    "arr = np.array([[1, 2, 3], [4, 5, 6]])\n",
    "newarr = arr.reshape(-1)\n",
    "print(newarr)\n",
    "''' \n",
    "Note: There are a lot of functions for changing the shapes of arrays in numpy flatten,\n",
    "ravel and also for rearranging the elements rot90, flip, fliplr, flipud etc. These fall under Intermediate to Advanced section of numpy.\n",
    "'''"
   ]
  },
  {
   "cell_type": "code",
   "execution_count": null,
   "metadata": {},
   "outputs": [
    {
     "ename": "ValueError",
     "evalue": "cannot reshape array of size 8 into shape (3,3)",
     "output_type": "error",
     "traceback": [
      "\u001b[1;31m---------------------------------------------------------------------------\u001b[0m",
      "\u001b[1;31mValueError\u001b[0m                                Traceback (most recent call last)",
      "\u001b[1;32md:\\CodingLanguages\\Python\\NumPy.ipynb Cell 30\u001b[0m line \u001b[0;36m3\n\u001b[0;32m      <a href='vscode-notebook-cell:/d%3A/CodingLanguages/Python/NumPy.ipynb#X43sZmlsZQ%3D%3D?line=0'>1</a>\u001b[0m \u001b[39m#Try converting 1D array with 8 elements to a 2D array with 3 elements in each dimension (will raise an error):\u001b[39;00m\n\u001b[0;32m      <a href='vscode-notebook-cell:/d%3A/CodingLanguages/Python/NumPy.ipynb#X43sZmlsZQ%3D%3D?line=1'>2</a>\u001b[0m arr \u001b[39m=\u001b[39m np\u001b[39m.\u001b[39marray([\u001b[39m1\u001b[39m, \u001b[39m2\u001b[39m, \u001b[39m3\u001b[39m, \u001b[39m4\u001b[39m, \u001b[39m5\u001b[39m, \u001b[39m6\u001b[39m, \u001b[39m7\u001b[39m, \u001b[39m8\u001b[39m])\n\u001b[1;32m----> <a href='vscode-notebook-cell:/d%3A/CodingLanguages/Python/NumPy.ipynb#X43sZmlsZQ%3D%3D?line=2'>3</a>\u001b[0m newarr \u001b[39m=\u001b[39m arr\u001b[39m.\u001b[39;49mreshape(\u001b[39m3\u001b[39;49m, \u001b[39m3\u001b[39;49m)\n\u001b[0;32m      <a href='vscode-notebook-cell:/d%3A/CodingLanguages/Python/NumPy.ipynb#X43sZmlsZQ%3D%3D?line=3'>4</a>\u001b[0m \u001b[39mprint\u001b[39m(newarr)\n",
      "\u001b[1;31mValueError\u001b[0m: cannot reshape array of size 8 into shape (3,3)"
     ]
    }
   ],
   "source": [
    "#Try converting 1D array with 8 elements to a 2D array with 3 elements in each dimension (will raise an error):\n",
    "arr = np.array([1, 2, 3, 4, 5, 6, 7, 8,9])\n",
    "newarr = arr.reshape(3, 3)\n",
    "print(newarr)"
   ]
  },
  {
   "cell_type": "markdown",
   "metadata": {},
   "source": [
    "**NumPy Array Iterating**"
   ]
  },
  {
   "cell_type": "markdown",
   "metadata": {},
   "source": [
    "**Iterating Arrays**  \n",
    "Iterating means going through elements one by one.  \n",
    "As we deal with multi-dimensional arrays in numpy, we can do this using basic for loop of python.  \n",
    "If we iterate on a 1-D array it will go through each element one by one.  \n",
    "\n",
    "**Iterating 2-D Arrays**  \n",
    "In a 2-D array it will go through all the rows.\n",
    "\n",
    "**Iterating 3-D Arrays**  \n",
    "In a 3-D array it will go through all the 2-D arrays.  \n",
    "\n",
    "**Iterating Arrays Using nditer()**  \n",
    "The function nditer() is a helping function that can be used from very basic to very advanced iterations. It solves some basic issues which we face in iteration, lets go through it with examples.  \n",
    "\n",
    "Iterating on Each Scalar Element  \n",
    "In basic for loops, iterating through each scalar of an array we need to use n for loops which can be difficult to write for arrays with very high dimensionality.  \n",
    "\n",
    "**Iterating Array With Different Data Types**  \n",
    "We can use op_dtypes argument and pass it the expected datatype to change the datatype of elements while iterating.  \n",
    "NumPy does not change the data type of the element in-place (where the element is in array) so it needs some other space to perform this action, that extra space is called buffer, and in order to enable it in nditer() we pass flags=['buffered'].  \n",
    "\n",
    "**Iterating With Different Step Size**  \n",
    "We can use filtering and followed by iteration.  \n",
    "\n",
    "**Enumerated Iteration Using ndenumerate()**  \n",
    "Enumeration means mentioning sequence number of somethings one by one.  \n",
    "Sometimes we require corresponding index of the element while iterating, the ndenumerate() method can be used for those usecases."
   ]
  },
  {
   "cell_type": "code",
   "execution_count": null,
   "metadata": {},
   "outputs": [
    {
     "name": "stdout",
     "output_type": "stream",
     "text": [
      "For the 1D array\n",
      "1\n",
      "2\n",
      "3\n",
      "---------------------------------\n",
      "For the 2D array\n",
      "[1 2 3]\n",
      "[4 5 6]\n",
      "---------------------------------\n",
      "Each element in the 2D arrays.\n",
      "1\n",
      "2\n",
      "3\n",
      "4\n",
      "5\n",
      "6\n",
      "---------------------------------\n",
      "For the 3D arrays\n",
      "[[1 2 3]\n",
      " [4 5 6]]\n",
      "[[ 7  8  9]\n",
      " [10 11 12]]\n",
      "---------------------------------\n",
      "[1 2 3]\n",
      "[4 5 6]\n",
      "[7 8 9]\n",
      "[10 11 12]\n",
      "---------------------------------\n",
      "1\n",
      "2\n",
      "3\n",
      "4\n",
      "5\n",
      "6\n",
      "7\n",
      "8\n",
      "9\n",
      "10\n",
      "11\n",
      "12\n"
     ]
    }
   ],
   "source": [
    "import numpy as np\n",
    "#Iterate on the elements of the following 1-D array:\n",
    "print(\"For the 1D array\")\n",
    "arr = np.array([1, 2, 3])\n",
    "for x in arr:\n",
    "  print(x)\n",
    "print(\"---------------------------------\")\n",
    "\n",
    "#Iterate on the elements of the following 2-D array:\n",
    "print(\"For the 2D array\")\n",
    "arr = np.array([[1, 2, 3], [4, 5, 6]])\n",
    "for x in arr:\n",
    "  print(x)\n",
    "print(\"---------------------------------\")\n",
    "#Iterate on each scalar element of the 2-D array:\n",
    "print(\"Each element in the 2D arrays.\")\n",
    "for x in arr:\n",
    "  for y in x:\n",
    "    print(y)\n",
    "print(\"---------------------------------\")\n",
    "\n",
    "#Iterate on the elements of the following 3-D array:\n",
    "print(\"For the 3D arrays\")\n",
    "arr = np.array([[[1, 2, 3], [4, 5, 6]], [[7, 8, 9], [10, 11, 12]]])\n",
    "for x in arr:\n",
    "  print(x)\n",
    "print(\"---------------------------------\")\n",
    "#iterating the 3D array in the rows \n",
    "arr = np.array([[[1, 2, 3], [4, 5, 6]], [[7, 8, 9], [10, 11, 12]]])\n",
    "for x in arr:\n",
    "  for y in x:\n",
    "    print(y)\n",
    "print(\"---------------------------------\")\n",
    "#itretionf the individual elements of the arrays\n",
    "for x in arr:\n",
    "  for y in x:\n",
    "    for z in y:\n",
    "      print(z)\n"
   ]
  },
  {
   "cell_type": "code",
   "execution_count": null,
   "metadata": {},
   "outputs": [
    {
     "name": "stdout",
     "output_type": "stream",
     "text": [
      "1\n",
      "2\n",
      "3\n",
      "4\n",
      "5\n",
      "6\n",
      "7\n",
      "8\n",
      "-------------------------------\n",
      "b'1'\n",
      "b'2'\n",
      "b'3'\n",
      "-------------------------------\n",
      "1\n",
      "3\n",
      "5\n",
      "7\n",
      "-------------------------------\n",
      "(0,) 1\n",
      "(1,) 2\n",
      "(2,) 3\n",
      "-------------------------------\n",
      "(0, 0) 1\n",
      "(0, 1) 2\n",
      "(0, 2) 3\n",
      "(0, 3) 4\n",
      "(1, 0) 5\n",
      "(1, 1) 6\n",
      "(1, 2) 7\n",
      "(1, 3) 8\n"
     ]
    }
   ],
   "source": [
    "#using the 'nditer()' functions\n",
    "import numpy as np\n",
    "arr = np.array([[[1, 2], [3, 4]], [[5, 6], [7, 8]]])\n",
    "for x in np.nditer(arr):\n",
    "  print(x)\n",
    "print(\"-------------------------------\")\n",
    "#using the array with the diffrent datatype\n",
    "arr = np.array([1, 2, 3])\n",
    "for x in np.nditer(arr, flags=['buffered'], op_dtypes=['S']):\n",
    "  print(x)\n",
    "print(\"-------------------------------\")\n",
    "#Iterating With Different Step Size\n",
    "arr = np.array([[1, 2, 3, 4], [5, 6, 7, 8]])\n",
    "for x in np.nditer(arr[:, ::2]):\n",
    "  print(x)\n",
    "print(\"-------------------------------\")\n",
    "#Enumerated Iteration Using ndenumerate()\n",
    "arr = np.array([1, 2, 3])\n",
    "for idx, x in np.ndenumerate(arr):\n",
    "  print(idx, x)\n",
    "print(\"-------------------------------\")\n",
    "#Enumerate on following 2D array's elements:\n",
    "arr = np.array([[1, 2, 3, 4], [5, 6, 7, 8]])\n",
    "for idx, x in np.ndenumerate(arr):\n",
    "  print(idx, x)\n"
   ]
  },
  {
   "cell_type": "markdown",
   "metadata": {},
   "source": [
    "**NumPy Joining Array**"
   ]
  },
  {
   "cell_type": "markdown",
   "metadata": {},
   "source": [
    "**Joining NumPy Arrays**  \n",
    "Joining means putting contents of two or more arrays in a single array.  \n",
    "In SQL we join tables based on a key, whereas in NumPy we join arrays by axes.  \n",
    "We pass a sequence of arrays that we want to join to the concatenate() function, along with the axis. If axis is not explicitly passed, it is taken as 0.\n",
    "\n",
    "**Joining Arrays Using Stack Functions**  \n",
    "Stacking is same as concatenation, the only difference is that stacking is done along a new axis.  \n",
    "We can concatenate two 1-D arrays along the second axis which would result in putting them one over the other, ie. stacking.  \n",
    "We pass a sequence of arrays that we want to join to the stack() method along with the axis. If axis is not explicitly passed it is taken as 0.  \n",
    "\n",
    "**Stacking Along Rows**  \n",
    "NumPy provides a helper function: hstack() to stack along rows.  \n",
    "\n",
    "**Stacking Along Columns**  \n",
    "NumPy provides a helper function: vstack()  to stack along columns.  \n",
    "\n",
    "**Stacking Along Height (depth)**  \n",
    "NumPy provides a helper function: dstack() to stack along height, which is the same as depth."
   ]
  },
  {
   "cell_type": "code",
   "execution_count": null,
   "metadata": {},
   "outputs": [
    {
     "name": "stdout",
     "output_type": "stream",
     "text": [
      "[1 2 3 4 5 6]\n",
      "[[1 2 5 6]\n",
      " [3 4 7 8]]\n",
      "[[1 4]\n",
      " [2 5]\n",
      " [3 6]]\n",
      "[1 2 3 4 5 6]\n",
      "[[1 2 3]\n",
      " [4 5 6]]\n",
      "[[[1 4]\n",
      "  [2 5]\n",
      "  [3 6]]]\n"
     ]
    }
   ],
   "source": [
    "#Join two arrays\n",
    "import numpy as np\n",
    "arr1 = np.array([1, 2, 3])\n",
    "arr2 = np.array([4, 5, 6])\n",
    "newarr = np.concatenate((arr1,arr2))\n",
    "print(newarr)\n",
    "#Join two 2-D arrays along rows (axis=1):\n",
    "arr1 = np.array([[1, 2], [3, 4]])\n",
    "arr2 = np.array([[5, 6], [7, 8]])\n",
    "arr = np.concatenate((arr1, arr2), axis=1)\n",
    "print(arr)\n",
    "\n",
    "#joining the arrays using the stack methods\n",
    "arr1 = np.array([1, 2, 3])\n",
    "arr2 = np.array([4, 5, 6])\n",
    "arr = np.stack((arr1, arr2), axis=1)\n",
    "print(arr)\n",
    "#Stacking Along Rows\n",
    "arr1 = np.array([1, 2, 3])\n",
    "arr2 = np.array([4, 5, 6])\n",
    "arr = np.hstack((arr1, arr2))\n",
    "print(arr)\n",
    "#Stacking Along Columns\n",
    "arr1 = np.array([1, 2, 3])\n",
    "arr2 = np.array([4, 5, 6])\n",
    "arr = np.vstack((arr1, arr2))\n",
    "print(arr)\n",
    "#Stacking Along Height (depth)\n",
    "arr1 = np.array([1, 2, 3])\n",
    "arr2 = np.array([4, 5, 6])\n",
    "arr = np.dstack((arr1, arr2))\n",
    "print(arr)"
   ]
  },
  {
   "cell_type": "markdown",
   "metadata": {},
   "source": [
    "**NumPy Splitting Array** "
   ]
  },
  {
   "cell_type": "markdown",
   "metadata": {},
   "source": [
    "**Splitting NumPy Arrays**  \n",
    "Splitting is reverse operation of Joining.  \n",
    "Joining merges multiple arrays into one and Splitting breaks one array into multiple.  \n",
    "We use array_split() for splitting arrays, we pass it the array we want to split and the number of splits.  \n",
    "Note: The return value is a list containing three arrays.  \n",
    "If the array has less elements than required, it will adjust from the end accordingly.  \n",
    "Note: We also have the method split() available but it will not adjust the elements when elements are less in source array for splitting like in example above, array_split() worked properly but split() would fail.  \n",
    "\n",
    "**Split Into Arrays**  \n",
    "The return value of the array_split() method is an array containing each of the split as an array.  \n",
    "If you split an array into 3 arrays, you can access them from the result just like any array element: \n",
    "\n",
    "**Splitting 2-D Arrays**  \n",
    "Use the same syntax when splitting 2-D arrays.  \n",
    "Use the array_split() method, pass in the array you want to split and the number of splits you want to do.  \n",
    "\n",
    "An alternate solution is using hsplit() opposite of hstack()\n"
   ]
  },
  {
   "cell_type": "code",
   "execution_count": null,
   "metadata": {},
   "outputs": [
    {
     "name": "stdout",
     "output_type": "stream",
     "text": [
      "[array([1, 2]), array([3, 4]), array([5, 6])]\n",
      "[array([1, 2]), array([3, 4]), array([5]), array([6])]\n",
      "[1 2]\n",
      "[3 4]\n",
      "[5 6]\n",
      "[array([[1, 2],\n",
      "       [3, 4]]), array([[5, 6],\n",
      "       [7, 8]]), array([[ 9, 10],\n",
      "       [11, 12]])]\n",
      "[[1 2]\n",
      " [3 4]]\n",
      "[[5 6]\n",
      " [7 8]]\n",
      "[[ 9 10]\n",
      " [11 12]]\n",
      "[array([[ 1],\n",
      "       [ 4],\n",
      "       [ 7],\n",
      "       [10],\n",
      "       [13],\n",
      "       [16]]), array([[ 2],\n",
      "       [ 5],\n",
      "       [ 8],\n",
      "       [11],\n",
      "       [14],\n",
      "       [17]]), array([[ 3],\n",
      "       [ 6],\n",
      "       [ 9],\n",
      "       [12],\n",
      "       [15],\n",
      "       [18]])]\n"
     ]
    }
   ],
   "source": [
    "#Split the array in 3 parts:\n",
    "import numpy as np\n",
    "arr = np.array([1, 2, 3, 4, 5, 6])\n",
    "newarr = np.array_split(arr, 3)\n",
    "print(newarr)\n",
    "#Split the array in 4 parts:\n",
    "arr = np.array([1, 2, 3, 4, 5, 6])\n",
    "newarr = np.array_split(arr, 4)\n",
    "print(newarr)\n",
    "#Access the splitted arrays:\n",
    "arr = np.array([1, 2, 3, 4, 5, 6])\n",
    "newarr = np.array_split(arr, 3)\n",
    "print(newarr[0])\n",
    "print(newarr[1])\n",
    "print(newarr[2])\n",
    "\n",
    "#Splitting 2-D Arrays\n",
    "#Split the 2-D array into three 2-D arrays.\n",
    "arr = np.array([[1, 2], [3, 4], [5, 6], [7, 8], [9, 10], [11, 12]])\n",
    "newarr = np.array_split(arr, 3)\n",
    "print(newarr)\n",
    "#access the sprate arrays\n",
    "print(newarr[0])\n",
    "print(newarr[1])\n",
    "print(newarr[2])\n",
    "\n",
    "#Use the hsplit() method to split the 2-D array into three 2-D arrays along rows.\n",
    "arr = np.array([[1, 2, 3], [4, 5, 6], [7, 8, 9], [10, 11, 12], [13, 14, 15], [16, 17, 18]])\n",
    "newarr = np.hsplit(arr, 3)\n",
    "print(newarr)\n",
    "#Note: Similar alternates to vstack() and dstack() are available as vsplit() and dsplit()."
   ]
  },
  {
   "cell_type": "markdown",
   "metadata": {},
   "source": [
    "**NumPy Searching Arrays** "
   ]
  },
  {
   "cell_type": "markdown",
   "metadata": {},
   "source": [
    "**Searching Arrays**  \n",
    "You can search an array for a certain value, and return the indexes that get a match.  \n",
    "To search an array, use the where() method.  \n",
    "\n",
    "**Search Sorted**  \n",
    "There is a method called searchsorted() which performs a binary search in the array, and returns the index where the specified value would be inserted to maintain the search order.  \n",
    "The searchsorted() method is assumed to be used on sorted arrays.  \n",
    "\n",
    "The method starts the search from the left and returns the first index where the number 7 is no longer larger than the next value.  \n",
    "\n",
    "**Search From the Right Side**  \n",
    "By default the left most index is returned, but we can give side='right' to return the right most index instead.  \n",
    "\n",
    "**Multiple Values**  \n",
    "To search for more than one value, use an array with the specified values."
   ]
  },
  {
   "cell_type": "code",
   "execution_count": null,
   "metadata": {},
   "outputs": [
    {
     "name": "stdout",
     "output_type": "stream",
     "text": [
      "(array([3, 5, 6], dtype=int64),)\n",
      "(array([1, 3, 5, 7], dtype=int64),)\n",
      "(array([0, 2, 4, 6], dtype=int64),)\n",
      "1\n",
      "2\n",
      "[1 2 3]\n",
      "[0 2 3]\n"
     ]
    }
   ],
   "source": [
    "#Find the indexes where the value is 4:\n",
    "import numpy as np\n",
    "arr = np.array([1, 2, 3, 4, 5, 4, 4])\n",
    "x = np.where(arr == 4)\n",
    "print(x)\n",
    "#Find the indexes where the values are even:\n",
    "arr = np.array([1, 2, 3, 4, 5, 6, 7, 8])\n",
    "x = np.where(arr%2 == 0)\n",
    "print(x)\n",
    "#Find the indexes where the values are odd:\n",
    "arr = np.array([1, 2, 3, 4, 5, 6, 7, 8])\n",
    "x = np.where(arr%2 == 1)\n",
    "print(x)\n",
    "\n",
    "#searchsorted() method\n",
    "#Find the indexes where the value 7 should be inserted:\n",
    "arr = np.array([6, 7, 8, 9])\n",
    "x = np.searchsorted(arr, 7)\n",
    "print(x)\n",
    "#Find the indexes where the value 7 should be inserted, starting from the right:\n",
    "arr = np.array([6, 7, 8, 9])\n",
    "x = np.searchsorted(arr, 7, side='right')\n",
    "print(x)\n",
    "#Multiple Values\n",
    "#Find the indexes where the values 2, 4, and 6 should be inserted:\n",
    "arr = np.array([1, 3, 5, 7])\n",
    "x = np.searchsorted(arr, [2, 4, 6])\n",
    "print(x)\n",
    "#The return value is an array: [1 2 3] containing the three indexes where 2, 4, 6 would be inserted in the original array to maintain the order.\n",
    "#searching the more then one value\n",
    "arr = np.array([1, 3, 5, 7])\n",
    "x = np.searchsorted(arr, [1,5,7])\n",
    "print(x)\n"
   ]
  },
  {
   "cell_type": "markdown",
   "metadata": {},
   "source": [
    "**NumPy Sorting Arrays**"
   ]
  },
  {
   "cell_type": "markdown",
   "metadata": {},
   "source": [
    "**Sorting Arrays** \n",
    "Sorting means putting elements in an ordered sequence.  \n",
    "Ordered sequence is any sequence that has an order corresponding to elements, like numeric or alphabetical, ascending or descending.  \n",
    "The NumPy ndarray object has a function called sort(), that will sort a specified array.  \n",
    "Note: This method returns a copy of the array, leaving the original array unchanged.  \n",
    "\n",
    "**Sorting a 2-D Array**  \n",
    "If you use the sort() method on a 2-D array, both arrays will be sorted:"
   ]
  },
  {
   "cell_type": "code",
   "execution_count": null,
   "metadata": {},
   "outputs": [
    {
     "name": "stdout",
     "output_type": "stream",
     "text": [
      "[0 1 2 3]\n",
      "['apple' 'banana' 'cherry']\n",
      "[False  True  True]\n",
      "[[2 3 4]\n",
      " [0 1 5]]\n",
      "[2 3 4]  &  [0 1 5]\n"
     ]
    }
   ],
   "source": [
    "#Sort the array:\n",
    "import numpy as np\n",
    "arr = np.array([3, 2, 0, 1])\n",
    "print(np.sort(arr))\n",
    "#You can also sort arrays of strings, or any other data type:\n",
    "#Sort the array alphabetically:\n",
    "arr = np.array(['banana', 'cherry', 'apple'])\n",
    "print(np.sort(arr))\n",
    "#Sort a boolean array:\n",
    "arr = np.array([True, False, True])\n",
    "print(np.sort(arr))\n",
    "\n",
    "#Sort a 2-D array:\n",
    "arr = np.array([[3, 2, 4], [5, 0, 1]])\n",
    "print(np.sort(arr))\n",
    "arr1 = np.sort(arr)\n",
    "print(arr1[0],\" & \",arr1[1])"
   ]
  },
  {
   "cell_type": "markdown",
   "metadata": {},
   "source": [
    "**NumPy Filter Array**"
   ]
  },
  {
   "cell_type": "markdown",
   "metadata": {},
   "source": [
    "**Filtering Arrays**  \n",
    "Getting some elements out of an existing array and creating a new array out of them is called filtering.  \n",
    "In NumPy, you filter an array using a boolean index list.  \n",
    "A boolean index list is a list of booleans corresponding to indexes in the array.  \n",
    "If the value at an index is True that element is contained in the filtered array, if the value at that index is False that element is excluded from the filtered array.  \n",
    "\n",
    "**Creating Filter Directly From Array**  \n",
    "The above example is quite a common task in NumPy and NumPy provides a nice way to tackle it.  \n",
    "We can directly substitute the array instead of the iterable variable in our condition and it will work just as we expect it to.  "
   ]
  },
  {
   "cell_type": "code",
   "execution_count": null,
   "metadata": {},
   "outputs": [
    {
     "name": "stdout",
     "output_type": "stream",
     "text": [
      "[41 43]\n",
      "[False, False, True, True, True, False, False, True, False, True]\n",
      "[  43   44   57   49 1003]\n",
      "-------------------------------------------------\n",
      "[False, False, True, True, True, False, False, True, False, True]\n",
      "[ 2  4  6  8 10 12 14 16]\n",
      "-------------------------------------------------\n",
      "[False False  True  True]\n",
      "[43 44]\n",
      "-------------------------------------------------\n",
      "[False  True False  True False  True False]\n",
      "[2 4 6]\n"
     ]
    }
   ],
   "source": [
    "#Create an array from the elements on index 0 and 2:\n",
    "import numpy as np\n",
    "arr = np.array([41, 42, 43, 44])\n",
    "x = [True, False, True, False]    #here is true at the index 0 & 3 so only 41 and 43 will present in the newarr\n",
    "newarr = arr[x]\n",
    "print(newarr)\n",
    "#The example above will return [41, 43], why?\n",
    "#Because the new array contains only the values where the filter array had the value True, in this case, index 0 and 2.\n",
    "\n",
    "#Create a filter array that will return only values higher than 42:\n",
    "arr = np.array([41, 42, 43, 44,57,5,28,49,34,1003])\n",
    "filter_arr = []\n",
    "for arrElemet in arr:\n",
    "    if arrElemet>42:\n",
    "        filter_arr.append(True)\n",
    "    else:\n",
    "        filter_arr.append(False)\n",
    "print(filter_arr)\n",
    "newarr = arr[filter_arr]\n",
    "print(newarr)\n",
    "print(\"-------------------------------------------------\")\n",
    "\n",
    "#Create a filter array that will return only even elements from the original array:\n",
    "arr = np.array([1, 2, 3, 4, 5, 6, 7,8,9,10,11,12,13,14,15,16])\n",
    "# Create an empty list\n",
    "even_filter_arr = []\n",
    "for elemetNo in arr:\n",
    "    if elemetNo%2 == 0:\n",
    "        even_filter_arr.append(True)\n",
    "    else:\n",
    "        even_filter_arr.append(False)\n",
    "print(filter_arr)\n",
    "newarrEven = arr[even_filter_arr]\n",
    "print(newarrEven) \n",
    "print(\"-------------------------------------------------\")\n",
    "\n",
    "#Creating Filter Directly From Array\n",
    "#Create a filter array that will return only values higher than 42:\n",
    "arr = np.array([41, 42, 43, 44])\n",
    "filter_arr = arr > 42\n",
    "newarr = arr[filter_arr]\n",
    "print(filter_arr)\n",
    "print(newarr)\n",
    "print(\"-------------------------------------------------\")\n",
    "#Create a filter array that will return only even elements from the original array:\n",
    "arr = np.array([1, 2, 3, 4, 5, 6, 7])\n",
    "filter_arr = arr % 2 == 0\n",
    "newarr = arr[filter_arr]\n",
    "print(filter_arr)\n",
    "print(newarr)"
   ]
  }
 ],
 "metadata": {
  "kernelspec": {
   "display_name": "Python 3",
   "language": "python",
   "name": "python3"
  },
  "language_info": {
   "codemirror_mode": {
    "name": "ipython",
    "version": 3
   },
   "file_extension": ".py",
   "mimetype": "text/x-python",
   "name": "python",
   "nbconvert_exporter": "python",
   "pygments_lexer": "ipython3",
   "version": "3.12.0"
  }
 },
 "nbformat": 4,
 "nbformat_minor": 2
}
