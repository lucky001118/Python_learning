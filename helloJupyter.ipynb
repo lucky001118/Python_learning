{
 "cells": [
  {
   "cell_type": "code",
   "execution_count": 5,
   "metadata": {},
   "outputs": [
    {
     "name": "stdout",
     "output_type": "stream",
     "text": [
      "hello, brather!\n"
     ]
    }
   ],
   "source": [
    "print(\"hello, brather!\")"
   ]
  },
  {
   "cell_type": "code",
   "execution_count": 6,
   "metadata": {},
   "outputs": [
    {
     "name": "stdout",
     "output_type": "stream",
     "text": [
      "Hello, brother 2\n"
     ]
    }
   ],
   "source": [
    "print(\"Hello, brother 2\")"
   ]
  },
  {
   "cell_type": "code",
   "execution_count": 7,
   "metadata": {},
   "outputs": [
    {
     "name": "stdout",
     "output_type": "stream",
     "text": [
      "hello, sister\n"
     ]
    }
   ],
   "source": [
    "print(\"hello, sister\")"
   ]
  },
  {
   "cell_type": "code",
   "execution_count": 10,
   "metadata": {},
   "outputs": [
    {
     "name": "stdout",
     "output_type": "stream",
     "text": [
      "this is bolt\n"
     ]
    }
   ],
   "source": [
    "print(\"this is bolt\")"
   ]
  },
  {
   "cell_type": "code",
   "execution_count": 7,
   "metadata": {},
   "outputs": [
    {
     "name": "stdout",
     "output_type": "stream",
     "text": [
      "This first variable carry:  lucky\n",
      "This second variable carry:  9080\n",
      "This third variable carry:  90.98\n",
      "second list is:  [['lucky', 9080, 90.98], ['lucky', 9080, 90.98], {'lucky': 100, 'yatish': 50}]\n",
      "{'lucky': 100, 'yatish': 50}\n",
      "ListSecond type:  <class 'list'> ,|| and type of the  <class 'dict'>  || and the type of the inner variables:  <class 'float'>\n",
      "___________ **Finish**__________________\n",
      "\n"
     ]
    }
   ],
   "source": [
    "listOfThings = [\"lucky\",9080,90.98]\n",
    "first,second,third = listOfThings\n",
    "listSecond = [listOfThings,[first,second,third],{\"lucky\":100,\"yatish\":50}]\n",
    "print(\"This first variable carry: \",first)\n",
    "print(\"This second variable carry: \",second)\n",
    "print(\"This third variable carry: \",third)\n",
    "print(\"second list is: \",listSecond)\n",
    "print(listSecond[2])\n",
    "print(\"ListSecond type: \",type(listSecond),\",|| and type of the \",type(listSecond[2]),\" || and the type of the inner variables: \",type(listSecond[1][2]))\n",
    "print(\"___________ **Finish**__________________\")\n",
    "print()"
   ]
  },
  {
   "cell_type": "code",
   "execution_count": 12,
   "metadata": {},
   "outputs": [
    {
     "name": "stdout",
     "output_type": "stream",
     "text": [
      "The money 500 is sent to lucky in the address h-180, w-11 Anjora  it is awsm..\n"
     ]
    }
   ],
   "source": [
    "#the string formate method \n",
    "money = 500\n",
    "name = \"lucky\"\n",
    "place = \"h-180, w-11 Anjora\"\n",
    "word = \"The money {} is sent to {} in the address {}\"\n",
    "print(word.format(money,name,place),\" it is awsm..\")\n"
   ]
  },
  {
   "cell_type": "code",
   "execution_count": 1,
   "metadata": {},
   "outputs": [
    {
     "name": "stdout",
     "output_type": "stream",
     "text": [
      "The money 500 is sent to lucky in the address h-180, w-11 Anjora\n",
      "The money 500 is sent to chukki in the address h-180, w-11 Anjora\n",
      "['The money 500 is sent to lucky in the address h-180', ' w-11 Anjora']\n"
     ]
    }
   ],
   "source": [
    "#The string formste method the the indexing placeholders\n",
    "money = 500\n",
    "name = \"lucky\"\n",
    "place = \"h-180, w-11 Anjora\"\n",
    "word = \"The money {2} is sent to {0} in the address {1}\"\n",
    "print(word.format(name,place,money))\n",
    "allSentence = word.format(name,place,money)\n",
    "print(allSentence.replace(\"lucky\",\"chukki\"))\n",
    "print(allSentence.split(\",\"))\n"
   ]
  },
  {
   "cell_type": "code",
   "execution_count": 5,
   "metadata": {},
   "outputs": [
    {
     "name": "stdout",
     "output_type": "stream",
     "text": [
      "<class 'set'>\n",
      "The updated tuple is:  ('tuple', 'thisis', 'the', 'lucky')\n",
      "tuple\n",
      "condition not matched\n",
      "thisis\n",
      "condition not matched\n",
      "the\n"
     ]
    }
   ],
   "source": [
    "#tuples\n",
    "tuple1 = {\"thisis\",\"the\",\"tuple\"}\n",
    "typeOfTuple = type(tuple1)\n",
    "print(typeOfTuple)\n",
    "\n",
    "list1 = list(tuple1)\n",
    "list1.append(\"lucky\")\n",
    "tuple1 = tuple(list1)\n",
    "print(\"The updated tuple is: \",tuple1)\n",
    "\n",
    "for x in tuple1:\n",
    "    print(x)\n",
    "    if x == \"the\":\n",
    "        break\n",
    "    print(\"condition not matched\")"
   ]
  },
  {
   "cell_type": "code",
   "execution_count": 1,
   "metadata": {},
   "outputs": [
    {
     "name": "stdout",
     "output_type": "stream",
     "text": [
      " <class 'set'> : is the set object type\n",
      "The updated tuple is:  ('tuple', 'thisis', 'the', 'lucky'),\n",
      "tuple: is the tuple collection data-type in the python,\n",
      "condition not matched,\n",
      "this is the hero,\n",
      "condition not matched,\n",
      "the end\n"
     ]
    }
   ],
   "source": [
    "#this is the next slat to code                        12/10/2023\n",
    "'''\n",
    "what want to i code here\n",
    "'''\n",
    "print(\"\"\" <class 'set'> : is the set object type\n",
    "The updated tuple is:  ('tuple', 'thisis', 'the', 'lucky'),\n",
    "tuple: is the tuple collection data-type in the python,\n",
    "condition not matched,\n",
    "this is the hero,\n",
    "condition not matched,\n",
    "the end\"\"\" )"
   ]
  },
  {
   "cell_type": "code",
   "execution_count": 12,
   "metadata": {},
   "outputs": [
    {
     "name": "stdout",
     "output_type": "stream",
     "text": [
      "dict_keys(['brand', 'model', 'year'])\n",
      "1964\n",
      "dict_keys(['brand', 'model', 'year', 'color'])\n",
      "dict_values(['Ford', 'Mustang', 1964, 'black'])\n",
      "dict_items([('brand', 'Ford'), ('model', 'Mustang'), ('year', 1964), ('color', 'black')])\n",
      "dict_items([('brand', 'Ford'), ('model', 'Mustang'), ('year', 2020), ('color', 'black')])\n",
      "<built-in method items of dict object at 0x00000231B4415CC0>\n",
      "Tobias\n"
     ]
    }
   ],
   "source": [
    "#we will write were somthing                      12/10/2023\n",
    "thisdict = {\n",
    "  \"brand\": \"Ford\",\n",
    "  \"model\": \"Mustang\",\n",
    "  \"year\": 1964\n",
    "}\n",
    "\n",
    "x = thisdict.keys()\n",
    "\n",
    "print(x)\n",
    "print(thisdict.get(\"year\"))\n",
    "\n",
    "thisdict[\"color\"] = \"black\"\n",
    "print(thisdict.keys())\n",
    "print(thisdict.values())\n",
    "print(thisdict.items())\n",
    "\n",
    "thisdict.update({\"year\":2020})\n",
    "print(thisdict.items())\n",
    "\n",
    "dict2 = {\n",
    "  \"model\": \"jaguar\",\n",
    "  \"year\": 2015\n",
    "}\n",
    "thisdict.update(dict2)\n",
    "print(thisdict.items)\n",
    "\n",
    "child1 = {\n",
    "  \"name\" : \"Emil\",\n",
    "  \"year\" : 2004\n",
    "}\n",
    "child2 = {\n",
    "  \"name\" : \"Tobias\",\n",
    "  \"year\" : 2007\n",
    "}\n",
    "child3 = {\n",
    "  \"name\" : \"Linus\",\n",
    "  \"year\" : 2011\n",
    "}\n",
    "\n",
    "myfamily = {\n",
    "  \"child1\" : child1,\n",
    "  \"child2\" : child2,\n",
    "  \"child3\" : child3\n",
    "}\n",
    "print(myfamily)\n",
    "print(myfamily[\"child2\"][\"name\"])\n"
   ]
  },
  {
   "cell_type": "code",
   "execution_count": 10,
   "metadata": {},
   "outputs": [
    {
     "name": "stdout",
     "output_type": "stream",
     "text": [
      "The version of the numpy library is:  1.26.0\n",
      "[1 2 3]\n",
      "<class 'numpy.ndarray'>\n",
      "(3,)\n",
      "The a2 is:  [[ 1.   2.   3.3]\n",
      " [ 4.   5.   6.5]\n",
      " [73.  89.   7. ]]\n",
      "the shape of the a2 is:  (3, 3)\n",
      "The shape of the a3:  (2, 3, 3)\n",
      "The shape of the array a4:  (2, 2, 3, 3)\n"
     ]
    }
   ],
   "source": [
    "# numpy library\n",
    "''' \n",
    "for creating the array in the numpy --> np.array([valuesOfArray])\n",
    "to know the shape of the array like 1D as (1), 2D as (1,1) ... --> np.shape(variableName)\n",
    "'''\n",
    "import numpy as np\n",
    "\n",
    "print(\"The version of the numpy library is: \",np.__version__)\n",
    "a1 = np.array([1,2,3])\n",
    "print(a1)\n",
    "print(type(a1))\n",
    "print(np.shape(a1))\n",
    "\n",
    "#two dimentional array\n",
    "a2 = np.array([[1,2.0,3.3],[4,5,6.5],[73,89,7]])\n",
    "print(\"The a2 is: \",a2)\n",
    "print(\"the shape of the a2 is: \",np.shape(a2))\n",
    "\n",
    "# 3D\n",
    "a3 = np.array([ [[1,2.0,3.3],[4,5,6.5],[73,89,7]]  , [[1,2.0,3.3],[4,5,6.5],[73,89,7]] ])\n",
    "print(\"The shape of the a3: \",np.shape(a3))\n",
    "\n",
    "# 4D --> array\n",
    "a4 = np.array([  [ [[1,2.0,3.3],[4,5,6.5],[73,89,7]]  , [[1,2.0,3.3],[4,5,6.5],[73,89,7]] ],[ [[1,2.0,3.3],[4,5,6.5],[73,89,7]]  , [[1,2.0,3.3],[4,5,6.5],[73,89,7]] ]  ])\n",
    "print(\"The shape of the array a4: \",np.shape(a4))\n"
   ]
  },
  {
   "cell_type": "code",
   "execution_count": 11,
   "metadata": {},
   "outputs": [
    {
     "name": "stdout",
     "output_type": "stream",
     "text": [
      "<mysql.connector.connection_cext.CMySQLConnection object at 0x0000015D2FEF8AD0>\n"
     ]
    }
   ],
   "source": [
    "import mysql.connector\n",
    "\n",
    "mydb = mysql.connector.connect(\n",
    "  host=\"localhost\",\n",
    "  user=\"root\",\n",
    "  password=\"Lucky@server2002\"\n",
    ")\n",
    "\n",
    "print(mydb)"
   ]
  },
  {
   "cell_type": "code",
   "execution_count": 1,
   "metadata": {},
   "outputs": [
    {
     "name": "stderr",
     "output_type": "stream",
     "text": [
      "Matplotlib is building the font cache; this may take a moment.\n"
     ]
    },
    {
     "data": {
      "image/png": "[encoded data removed]",
      "text/plain": [
       "<Figure size 640x480 with 1 Axes>"
      ]
     },
     "metadata": {},
     "output_type": "display_data"
    }
   ],
   "source": [
    "import matplotlib.pyplot as plt\n",
    "import numpy as np\n",
    "\n",
    "y = np.array([35, 25, 25, 15])\n",
    "mylabels = [\"Apples\", \"Bananas\", \"Cherries\", \"Dates\"]\n",
    "\n",
    "plt.pie(y, labels = mylabels)\n",
    "plt.legend()\n",
    "plt.show() "
   ]
  },
  {
   "cell_type": "code",
   "execution_count": 4,
   "metadata": {},
   "outputs": [
    {
     "name": "stdout",
     "output_type": "stream",
     "text": [
      "   Code Crunch level up            Unnamed: 1  Unnamed: 2                         Unnamed: 3      Unnamed: 4 Unnamed: 5 Unnamed: 6         Unnamed: 7      Unnamed: 8   Unnamed: 9      Unnamed: 10\n",
      "0                   NaN                   NaN         NaN                                NaN             NaN        NaN        NaN                NaN             NaN          NaN              NaN\n",
      "1                 S.No.                  Name      Number                              Email  School/College       Year     Branch         Laqshya ID  Payment Status  Receipt No.  Re-registration\n",
      "2                     1       Mohammad Sheesh  8877604785                msheesh86@gmail.com      CSIT, Durg          3        CSE  CSGI/LQ'23/CC/001            Paid          401                0\n",
      "3                     2   Suraj Prakash Patel  8815057965         13surajprakash13@gmail.com      CSIT, Durg          3        CSE  CSGI/LQ'23/CC/002            Paid          402                0\n",
      "4                     3        Mrinal Madaria  7064615459           mrinalmadaria3@gmail.com      CSIT, Durg          3        CSE  CSGI/LQ'23/CC/003            Paid          403                0\n",
      "5                     4          Nidhi Sharma  7000032972       tuleshkumarsharma1@gmail.com      CSIT, Durg          3        CSE  CSGI/LQ'23/CC/004            Paid          404                0\n",
      "6                     5         Dewansh Yadav  7879690005            dewanshyadaw8@gmail.com      CSIT, Durg          3        CSE  CSGI/LQ'23/CC/005            Paid          405                0\n",
      "7                     6        Rakshit Yadav   7879426699         yadavrakshit2002@gmail.com      CSIT, Durg          3        CSE  CSGI/LQ'23/CC/006            Paid          406                0\n",
      "8                     7    Sankalp Singh Bais  8963902007     21f3001102@ds.study.iitm.ac.in       SSTC,Durg          3        CSE  CSGI/LQ'23/CC/007            Paid          407                0\n",
      "9                     8                 Suraj  9399851328             surajpatelff@gmail.com      CSIT, Durg          3        CSE  CSGI/LQ'23/CC/008            Paid          408                0\n",
      "10                    9       Soniya Dewangan  9407956931        soniyadewangan109@gmail.com      CSIT, Durg          2        CSE  CSGI/LQ'23/CC/009            Paid          409                0\n",
      "11                   10             Aditi Rai  8319979232              aditirai216@gmail.com      CSIT, Durg          2        CSE  CSGI/LQ'23/CC/010            Paid          410                0\n",
      "12                   11           Ritika Sahu  8602044315               ritikaswhu@gmail.com      CSIT, Durg          2        CSE  CSGI/LQ'23/CC/011            Paid          411                0\n",
      "13                   12       Shruti Katakwar  9755992804         shrutikatakwar61@gmail.com      CSIT, Durg          2        CSE  CSGI/LQ'23/CC/012            Paid  412 and 438                1\n",
      "14                   13           Damini Umre  8458812434              daminiumrey@gmail.com      CSIT, Durg          2        CSE  CSGI/LQ'23/CC/013            Paid          413                0\n",
      "15                   14          Shubham Sahu  8959623778          shahushubham634@gmail.com      CSIT, Durg          2        CSE  CSGI/LQ'23/CC/014            Paid          414                0\n",
      "16                   15         Harsh Purohit  8815428116           harshpurohit31@gmail.com      CSIT, Durg          2        CSE  CSGI/LQ'23/CC/015            Paid          415                0\n",
      "17                   16         Yatish Gautam  6267573361           yatishgoutam00@gmail.com      CSIT, Durg          2        CSE  CSGI/LQ'23/CC/016            Paid          416                0\n",
      "18                   17    Suryakant Deshmukh  9575366560               surukant30@gmail.com      CSIT, Durg          3         IT  CSGI/LQ'23/CC/017            Paid          417                0\n",
      "19                   18            Dumeshwari  7000358324             dumeshwari56@gmail.com      CSIT, Durg          3        CSE  CSGI/LQ'23/CC/018            Paid          418                0\n",
      "20                   19       Atharva Karambe  7389740464        atharvakarambe626@gmail.com       SSTC,Durg          2        CSE  CSGI/LQ'23/CC/019            Paid          419                0\n",
      "21                   20   Md. Ruman Raza Khan  7415197098      rummankhankhan88604@gmail.com      CSIT, Durg          3        CSE  CSGI/LQ'23/CC/020            Paid          420                0\n",
      "22                   21    Sanjana Rani Sinha  6268262252               tsinha2580@gmail.com       SSTC,Durg          2        CSE  CGSI/LQ'23/CC/021            Paid          421                0\n",
      "23                   22         Roushan Kumar  7903696568          roushan123patna@gmail.com       RCET,Durg          3        CSE  CSGI/LQ'23/CC/022            Paid          422                0\n",
      "24                   23           Aryan Kuril  9109088258              electra2214@gmail.com      CSIT, Durg          3        CSE  CSGI/LQ'23/CC/023            Paid          423                0\n",
      "25                   24           Mayank Sahu  6260789917            sahumayank689@gmail.com      CSIT, Durg          3        CSE  CSGI/LQ'23/CC/024            Paid          424                0\n",
      "26                   25    Shashank Sai Gurav  7354844117          shashankgurav10@gmail.com      CSIT, Durg          2        CSE  CSGI/LQ'23/CC/025            Paid          425                0\n",
      "27                   26           Mukul Kurwe  9589517244             mukulkurwe18@gmail.com        KEC,Durg          3        CSE  CSGI/LQ'23/CC/026            Paid          426                0\n",
      "28                   27           Jaya Kharre  7587843719              jayakurrre8@gmail.com        KEC,Durg        NaN        CSE  CSGI/LQ'23/CC/027            Paid          427                0\n",
      "29                   28            Payal Sahu  9589578290          payalsahu578290@gmail.com       CSIT,Durg          2        CSE  CSGI/LQ'23/CC/028            Paid          428                0\n",
      "30                   29         Shekhar Gupta  8450074073           shekharguptalm@gmail.com       CSIT,Durg          1        CSE  CSGI/LQ'23/CC/029            Paid          429                0\n",
      "31                   30          Avinash Sahu  8959083588           sahuavinash412@gmail.com       CSIT,Durg          4        CSE  CSGI/LQ'23/CC/030            Paid          430                0\n",
      "32                   31    Tamradhawaj Sherpa  9406115576       tamradhwajsherpa76@gmail.com       CSIT,Durg          3        CSE  CSGI/LQ'23/CC/031            Paid          431                0\n",
      "33                   32             Nisha Saw  6267501888              nishasaw500@gmail.com       CSIT,Durg        NaN        CSE  CSGI/LQ'23/CC/032            Paid          432                0\n",
      "34                   33     D. Krishnu Prabhu  7694083923               dkrishanup@gmail.com       CSIT,Durg          4        CSE  CSGI/LQ'23/CC/033            Paid          433                0\n",
      "35                   34         Praveen Verma  9479057571        praveenverma123pk@gmail.com       CSIT,Durg          4        CSE  CSGI/LQ'23/CC/034            Paid          434                0\n",
      "36                   35   Sayanjay Kumar Sahu  7869938566                                NaN       CSIT,Durg          1        CSE  CSGI/LQ'23/CC/035            Paid          435                0\n",
      "37                   36   Rahul Kumar Kaushik  6266687529         rahulkaushik0284@gmail.com       CSIT,Durg          3        CSE  CSGI/LQ'23/CC/036            Paid          436                0\n",
      "38                   37            Aryan Paul  6266035030      www.aryanpaul858472@gmail.com       SSTC,Durg          2        CSE  CSGI/LQ'23/CC/037            Paid          437                0\n",
      "39                   38           Reena Sinha  9630030137         imreenasinha2003@gmail.com       CSIT,Durg          3        CSE  CSGI/LQ'23/CC/038            Paid          439                0\n",
      "40                   39   Shashank Shrivastav  9479217114       jayshrivastava2002@gmail.com       CSIT,Durg          2        CSE  CSGI/LQ'23/CC/039            Paid          440                0\n",
      "41                   40         Vanshu Thakur  7974376927            vanshu9kps.sn@gmail.com       CSIT,Durg          2        CSE  CSGI/LQ'23/CC/040            Paid          441                0\n",
      "42                   41  Yashwant Kumar Singh  9341598618      yashwantsingh261103@gmail.com       CSIT,Durg          2        CSE  CSGI/LQ'23/CC/041            Paid          442                0\n",
      "43                   42   Deep Narayan Shukla  8640092102  deepnarayanshukla131204@gmail.com       CSIT,Durg          1        CSE  CSGI/LQ'23/CC/042            Paid          443                0\n",
      "44                   43    Nitin Chhakradhari  7509351674      nitinchakradhari780@gmail.com       CSIT,Durg          1        CSE  CSGI/LQ'23/CC/043            Paid          444                0\n",
      "45                   44             Anshu Saw  7646810750             anshusao2155@gmail.com       CSIT,Durg          1        CSE  CGSI/LQ'23/CC/044            Paid          445                0\n",
      "46                   45        Harsh Dewangan  8269906018   harshkumardewangan2003@gmail.com       CSIT,Durg          1        CSE  CGSI/LQ'23/CC/045            Paid          446                0\n",
      "47                   46        Nivedya Indu B  8547665493             indunivedya6@gmail.com       CSIT,Durg          1        CSE  CSGI/LQ'23/CC/046            Paid          447                0\n",
      "48                   47            veena Sahu  7987946867           veenasahu10901@gmail.com       CSIT,Durg          3        CSE  CSGI/LQ'23/CC/047            Paid          448                0\n",
      "   Code Crunch level up            Unnamed: 1  Unnamed: 2                         Unnamed: 3      Unnamed: 4 Unnamed: 5 Unnamed: 6         Unnamed: 7      Unnamed: 8   Unnamed: 9      Unnamed: 10\n",
      "1                 S.No.                  Name      Number                              Email  School/College       Year     Branch         Laqshya ID  Payment Status  Receipt No.  Re-registration\n",
      "2                     1       Mohammad Sheesh  8877604785                msheesh86@gmail.com      CSIT, Durg          3        CSE  CSGI/LQ'23/CC/001            Paid          401                0\n",
      "3                     2   Suraj Prakash Patel  8815057965         13surajprakash13@gmail.com      CSIT, Durg          3        CSE  CSGI/LQ'23/CC/002            Paid          402                0\n",
      "4                     3        Mrinal Madaria  7064615459           mrinalmadaria3@gmail.com      CSIT, Durg          3        CSE  CSGI/LQ'23/CC/003            Paid          403                0\n",
      "5                     4          Nidhi Sharma  7000032972       tuleshkumarsharma1@gmail.com      CSIT, Durg          3        CSE  CSGI/LQ'23/CC/004            Paid          404                0\n",
      "6                     5         Dewansh Yadav  7879690005            dewanshyadaw8@gmail.com      CSIT, Durg          3        CSE  CSGI/LQ'23/CC/005            Paid          405                0\n",
      "7                     6        Rakshit Yadav   7879426699         yadavrakshit2002@gmail.com      CSIT, Durg          3        CSE  CSGI/LQ'23/CC/006            Paid          406                0\n",
      "8                     7    Sankalp Singh Bais  8963902007     21f3001102@ds.study.iitm.ac.in       SSTC,Durg          3        CSE  CSGI/LQ'23/CC/007            Paid          407                0\n",
      "9                     8                 Suraj  9399851328             surajpatelff@gmail.com      CSIT, Durg          3        CSE  CSGI/LQ'23/CC/008            Paid          408                0\n",
      "10                    9       Soniya Dewangan  9407956931        soniyadewangan109@gmail.com      CSIT, Durg          2        CSE  CSGI/LQ'23/CC/009            Paid          409                0\n",
      "11                   10             Aditi Rai  8319979232              aditirai216@gmail.com      CSIT, Durg          2        CSE  CSGI/LQ'23/CC/010            Paid          410                0\n",
      "12                   11           Ritika Sahu  8602044315               ritikaswhu@gmail.com      CSIT, Durg          2        CSE  CSGI/LQ'23/CC/011            Paid          411                0\n",
      "13                   12       Shruti Katakwar  9755992804         shrutikatakwar61@gmail.com      CSIT, Durg          2        CSE  CSGI/LQ'23/CC/012            Paid  412 and 438                1\n",
      "14                   13           Damini Umre  8458812434              daminiumrey@gmail.com      CSIT, Durg          2        CSE  CSGI/LQ'23/CC/013            Paid          413                0\n",
      "15                   14          Shubham Sahu  8959623778          shahushubham634@gmail.com      CSIT, Durg          2        CSE  CSGI/LQ'23/CC/014            Paid          414                0\n",
      "16                   15         Harsh Purohit  8815428116           harshpurohit31@gmail.com      CSIT, Durg          2        CSE  CSGI/LQ'23/CC/015            Paid          415                0\n",
      "17                   16         Yatish Gautam  6267573361           yatishgoutam00@gmail.com      CSIT, Durg          2        CSE  CSGI/LQ'23/CC/016            Paid          416                0\n",
      "18                   17    Suryakant Deshmukh  9575366560               surukant30@gmail.com      CSIT, Durg          3         IT  CSGI/LQ'23/CC/017            Paid          417                0\n",
      "19                   18            Dumeshwari  7000358324             dumeshwari56@gmail.com      CSIT, Durg          3        CSE  CSGI/LQ'23/CC/018            Paid          418                0\n",
      "20                   19       Atharva Karambe  7389740464        atharvakarambe626@gmail.com       SSTC,Durg          2        CSE  CSGI/LQ'23/CC/019            Paid          419                0\n",
      "21                   20   Md. Ruman Raza Khan  7415197098      rummankhankhan88604@gmail.com      CSIT, Durg          3        CSE  CSGI/LQ'23/CC/020            Paid          420                0\n",
      "22                   21    Sanjana Rani Sinha  6268262252               tsinha2580@gmail.com       SSTC,Durg          2        CSE  CGSI/LQ'23/CC/021            Paid          421                0\n",
      "23                   22         Roushan Kumar  7903696568          roushan123patna@gmail.com       RCET,Durg          3        CSE  CSGI/LQ'23/CC/022            Paid          422                0\n",
      "24                   23           Aryan Kuril  9109088258              electra2214@gmail.com      CSIT, Durg          3        CSE  CSGI/LQ'23/CC/023            Paid          423                0\n",
      "25                   24           Mayank Sahu  6260789917            sahumayank689@gmail.com      CSIT, Durg          3        CSE  CSGI/LQ'23/CC/024            Paid          424                0\n",
      "26                   25    Shashank Sai Gurav  7354844117          shashankgurav10@gmail.com      CSIT, Durg          2        CSE  CSGI/LQ'23/CC/025            Paid          425                0\n",
      "27                   26           Mukul Kurwe  9589517244             mukulkurwe18@gmail.com        KEC,Durg          3        CSE  CSGI/LQ'23/CC/026            Paid          426                0\n",
      "29                   28            Payal Sahu  9589578290          payalsahu578290@gmail.com       CSIT,Durg          2        CSE  CSGI/LQ'23/CC/028            Paid          428                0\n",
      "30                   29         Shekhar Gupta  8450074073           shekharguptalm@gmail.com       CSIT,Durg          1        CSE  CSGI/LQ'23/CC/029            Paid          429                0\n",
      "31                   30          Avinash Sahu  8959083588           sahuavinash412@gmail.com       CSIT,Durg          4        CSE  CSGI/LQ'23/CC/030            Paid          430                0\n",
      "32                   31    Tamradhawaj Sherpa  9406115576       tamradhwajsherpa76@gmail.com       CSIT,Durg          3        CSE  CSGI/LQ'23/CC/031            Paid          431                0\n",
      "34                   33     D. Krishnu Prabhu  7694083923               dkrishanup@gmail.com       CSIT,Durg          4        CSE  CSGI/LQ'23/CC/033            Paid          433                0\n",
      "35                   34         Praveen Verma  9479057571        praveenverma123pk@gmail.com       CSIT,Durg          4        CSE  CSGI/LQ'23/CC/034            Paid          434                0\n",
      "37                   36   Rahul Kumar Kaushik  6266687529         rahulkaushik0284@gmail.com       CSIT,Durg          3        CSE  CSGI/LQ'23/CC/036            Paid          436                0\n",
      "38                   37            Aryan Paul  6266035030      www.aryanpaul858472@gmail.com       SSTC,Durg          2        CSE  CSGI/LQ'23/CC/037            Paid          437                0\n",
      "39                   38           Reena Sinha  9630030137         imreenasinha2003@gmail.com       CSIT,Durg          3        CSE  CSGI/LQ'23/CC/038            Paid          439                0\n",
      "40                   39   Shashank Shrivastav  9479217114       jayshrivastava2002@gmail.com       CSIT,Durg          2        CSE  CSGI/LQ'23/CC/039            Paid          440                0\n",
      "41                   40         Vanshu Thakur  7974376927            vanshu9kps.sn@gmail.com       CSIT,Durg          2        CSE  CSGI/LQ'23/CC/040            Paid          441                0\n",
      "42                   41  Yashwant Kumar Singh  9341598618      yashwantsingh261103@gmail.com       CSIT,Durg          2        CSE  CSGI/LQ'23/CC/041            Paid          442                0\n",
      "43                   42   Deep Narayan Shukla  8640092102  deepnarayanshukla131204@gmail.com       CSIT,Durg          1        CSE  CSGI/LQ'23/CC/042            Paid          443                0\n",
      "44                   43    Nitin Chhakradhari  7509351674      nitinchakradhari780@gmail.com       CSIT,Durg          1        CSE  CSGI/LQ'23/CC/043            Paid          444                0\n",
      "45                   44             Anshu Saw  7646810750             anshusao2155@gmail.com       CSIT,Durg          1        CSE  CGSI/LQ'23/CC/044            Paid          445                0\n",
      "46                   45        Harsh Dewangan  8269906018   harshkumardewangan2003@gmail.com       CSIT,Durg          1        CSE  CGSI/LQ'23/CC/045            Paid          446                0\n",
      "47                   46        Nivedya Indu B  8547665493             indunivedya6@gmail.com       CSIT,Durg          1        CSE  CSGI/LQ'23/CC/046            Paid          447                0\n",
      "48                   47            veena Sahu  7987946867           veenasahu10901@gmail.com       CSIT,Durg          3        CSE  CSGI/LQ'23/CC/047            Paid          448                0\n"
     ]
    }
   ],
   "source": [
    "import pandas as pd\n",
    "df = pd.read_csv(r\"C:\\Users\\manik\\Desktop\\data1.csv\")\n",
    "print(df.to_string())\n",
    "print(df.dropna(axis=0).to_string())"
   ]
  },
  {
   "cell_type": "code",
   "execution_count": 7,
   "metadata": {},
   "outputs": [
    {
     "ename": "KeyError",
     "evalue": "['Email']",
     "output_type": "error",
     "traceback": [
      "\u001b[1;31m---------------------------------------------------------------------------\u001b[0m",
      "\u001b[1;31mKeyError\u001b[0m                                  Traceback (most recent call last)",
      "\u001b[1;32m~\\AppData\\Local\\Temp\\ipykernel_12184\\1348104769.py\u001b[0m in \u001b[0;36m?\u001b[1;34m()\u001b[0m\n\u001b[1;32m----> 1\u001b[1;33m \u001b[0mprint\u001b[0m\u001b[1;33m(\u001b[0m\u001b[0mdf\u001b[0m\u001b[1;33m.\u001b[0m\u001b[0mdropna\u001b[0m\u001b[1;33m(\u001b[0m\u001b[0msubset\u001b[0m\u001b[1;33m=\u001b[0m\u001b[1;33m[\u001b[0m\u001b[1;34m\"Email\"\u001b[0m\u001b[1;33m]\u001b[0m\u001b[1;33m)\u001b[0m\u001b[1;33m)\u001b[0m\u001b[1;33m\u001b[0m\u001b[1;33m\u001b[0m\u001b[0m\n\u001b[0m",
      "\u001b[1;32mc:\\Users\\manik\\AppData\\Local\\Programs\\Python\\Python312\\Lib\\site-packages\\pandas\\core\\frame.py\u001b[0m in \u001b[0;36m?\u001b[1;34m(self, axis, how, thresh, subset, inplace, ignore_index)\u001b[0m\n\u001b[0;32m   6417\u001b[0m             \u001b[0max\u001b[0m \u001b[1;33m=\u001b[0m \u001b[0mself\u001b[0m\u001b[1;33m.\u001b[0m\u001b[0m_get_axis\u001b[0m\u001b[1;33m(\u001b[0m\u001b[0magg_axis\u001b[0m\u001b[1;33m)\u001b[0m\u001b[1;33m\u001b[0m\u001b[1;33m\u001b[0m\u001b[0m\n\u001b[0;32m   6418\u001b[0m             \u001b[0mindices\u001b[0m \u001b[1;33m=\u001b[0m \u001b[0max\u001b[0m\u001b[1;33m.\u001b[0m\u001b[0mget_indexer_for\u001b[0m\u001b[1;33m(\u001b[0m\u001b[0msubset\u001b[0m\u001b[1;33m)\u001b[0m\u001b[1;33m\u001b[0m\u001b[1;33m\u001b[0m\u001b[0m\n\u001b[0;32m   6419\u001b[0m             \u001b[0mcheck\u001b[0m \u001b[1;33m=\u001b[0m \u001b[0mindices\u001b[0m \u001b[1;33m==\u001b[0m \u001b[1;33m-\u001b[0m\u001b[1;36m1\u001b[0m\u001b[1;33m\u001b[0m\u001b[1;33m\u001b[0m\u001b[0m\n\u001b[0;32m   6420\u001b[0m             \u001b[1;32mif\u001b[0m \u001b[0mcheck\u001b[0m\u001b[1;33m.\u001b[0m\u001b[0many\u001b[0m\u001b[1;33m(\u001b[0m\u001b[1;33m)\u001b[0m\u001b[1;33m:\u001b[0m\u001b[1;33m\u001b[0m\u001b[1;33m\u001b[0m\u001b[0m\n\u001b[1;32m-> 6421\u001b[1;33m                 \u001b[1;32mraise\u001b[0m \u001b[0mKeyError\u001b[0m\u001b[1;33m(\u001b[0m\u001b[0mnp\u001b[0m\u001b[1;33m.\u001b[0m\u001b[0marray\u001b[0m\u001b[1;33m(\u001b[0m\u001b[0msubset\u001b[0m\u001b[1;33m)\u001b[0m\u001b[1;33m[\u001b[0m\u001b[0mcheck\u001b[0m\u001b[1;33m]\u001b[0m\u001b[1;33m.\u001b[0m\u001b[0mtolist\u001b[0m\u001b[1;33m(\u001b[0m\u001b[1;33m)\u001b[0m\u001b[1;33m)\u001b[0m\u001b[1;33m\u001b[0m\u001b[1;33m\u001b[0m\u001b[0m\n\u001b[0m\u001b[0;32m   6422\u001b[0m             \u001b[0magg_obj\u001b[0m \u001b[1;33m=\u001b[0m \u001b[0mself\u001b[0m\u001b[1;33m.\u001b[0m\u001b[0mtake\u001b[0m\u001b[1;33m(\u001b[0m\u001b[0mindices\u001b[0m\u001b[1;33m,\u001b[0m \u001b[0maxis\u001b[0m\u001b[1;33m=\u001b[0m\u001b[0magg_axis\u001b[0m\u001b[1;33m)\u001b[0m\u001b[1;33m\u001b[0m\u001b[1;33m\u001b[0m\u001b[0m\n\u001b[0;32m   6423\u001b[0m \u001b[1;33m\u001b[0m\u001b[0m\n\u001b[0;32m   6424\u001b[0m         \u001b[1;32mif\u001b[0m \u001b[0mthresh\u001b[0m \u001b[1;32mis\u001b[0m \u001b[1;32mnot\u001b[0m \u001b[0mlib\u001b[0m\u001b[1;33m.\u001b[0m\u001b[0mno_default\u001b[0m\u001b[1;33m:\u001b[0m\u001b[1;33m\u001b[0m\u001b[1;33m\u001b[0m\u001b[0m\n",
      "\u001b[1;31mKeyError\u001b[0m: ['Email']"
     ]
    }
   ],
   "source": [
    "print(df.dropna(subset=[\"Email\"]))"
   ]
  }
 ],
 "metadata": {
  "kernelspec": {
   "display_name": "Python 3",
   "language": "python",
   "name": "python3"
  },
  "language_info": {
   "codemirror_mode": {
    "name": "ipython",
    "version": 3
   },
   "file_extension": ".py",
   "mimetype": "text/x-python",
   "name": "python",
   "nbconvert_exporter": "python",
   "pygments_lexer": "ipython3",
   "version": "3.12.0"
  },
  "orig_nbformat": 4
 },
 "nbformat": 4,
 "nbformat_minor": 2
}
