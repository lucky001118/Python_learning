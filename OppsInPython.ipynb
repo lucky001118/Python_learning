{
 "cells": [
  {
   "cell_type": "code",
   "execution_count": 4,
   "metadata": {},
   "outputs": [],
   "source": [
    "class AnimalClass:\n",
    "    def Knowit(self):\n",
    "        print(\"WE are knowing it.\")\n",
    "    "
   ]
  },
  {
   "cell_type": "code",
   "execution_count": 5,
   "metadata": {},
   "outputs": [
    {
     "name": "stdout",
     "output_type": "stream",
     "text": [
      "WE are knowing it.\n"
     ]
    }
   ],
   "source": [
    "my_animal = AnimalClass()\n",
    "my_animal.Knowit()"
   ]
  },
  {
   "cell_type": "code",
   "execution_count": 18,
   "metadata": {},
   "outputs": [
    {
     "name": "stdout",
     "output_type": "stream",
     "text": [
      "COMPUTER NETWORKS\n",
      "\n",
      "-->AIM:  Introduction to Local Area Network with its cables, connectors and topologies.\n",
      "\n",
      "----------Cables-------------\n",
      "\n",
      "UTP - Unshilded twisted pair\n",
      "STP - Silded twisted pai\n",
      "MMF - Multi mode fiber\n",
      "SMF - Single mode fiber\n",
      "\n",
      "----------Connector---------\n",
      "\n",
      "RJ45 - Register jack 45\n",
      "\n",
      "\n",
      "-----------Topologeis---------\n",
      "Bus\n",
      "Star\n",
      "Tree\n",
      "Hybride\n",
      "Mash\n"
     ]
    }
   ],
   "source": [
    "import os\n",
    "os.chdir(r\"D:\\Notepad_Documents\")\n",
    "file1 = open(r\"LAB_CN-1.txt\",\"r\")\n",
    "content = file1.read()\n",
    "print(content)\n",
    "file1.close()"
   ]
  }
 ],
 "metadata": {
  "kernelspec": {
   "display_name": "Python 3",
   "language": "python",
   "name": "python3"
  },
  "language_info": {
   "codemirror_mode": {
    "name": "ipython",
    "version": 3
   },
   "file_extension": ".py",
   "mimetype": "text/x-python",
   "name": "python",
   "nbconvert_exporter": "python",
   "pygments_lexer": "ipython3",
   "version": "3.12.0"
  }
 },
 "nbformat": 4,
 "nbformat_minor": 2
}
